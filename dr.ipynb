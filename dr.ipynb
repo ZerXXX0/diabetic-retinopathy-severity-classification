{
 "cells": [
  {
   "cell_type": "code",
   "execution_count": 19,
   "metadata": {},
   "outputs": [],
   "source": [
    "import torch\n",
    "import timm\n",
    "import os\n",
    "from PIL import Image\n",
    "from roboflow import Roboflow\n",
    "from torchvision import transforms\n",
    "from torch.utils.data import DataLoader, Dataset\n",
    "from sklearn.metrics import accuracy_score, precision_score, recall_score, confusion_matrix, classification_report\n",
    "from tqdm import tqdm\n",
    "import torch.nn as nn\n",
    "import torch.optim as optim\n",
    "from torchvision.datasets import ImageFolder\n",
    "from torch.optim.lr_scheduler import ReduceLROnPlateau"
   ]
  },
  {
   "cell_type": "markdown",
   "metadata": {},
   "source": [
    "Loading Dataset dari Roboflow"
   ]
  },
  {
   "cell_type": "code",
   "execution_count": 20,
   "metadata": {},
   "outputs": [
    {
     "name": "stdout",
     "output_type": "stream",
     "text": [
      "loading Roboflow workspace...\n",
      "loading Roboflow project...\n"
     ]
    }
   ],
   "source": [
    "rf = Roboflow(api_key=\"DV3LuuCyQmUxhaklG7P0\")\n",
    "project = rf.workspace(\"ciptooo\").project(\"ddr-rg3uk\")\n",
    "version = project.version(1)\n",
    "dataset = version.download(\"folder\")"
   ]
  },
  {
   "cell_type": "code",
   "execution_count": 21,
   "metadata": {},
   "outputs": [],
   "source": [
    "train_dir = os.path.join(dataset.location, \"train\")\n",
    "test_dir = os.path.join(dataset.location, \"test\")\n",
    "val_dir = os.path.join(dataset.location, \"valid\")"
   ]
  },
  {
   "cell_type": "markdown",
   "metadata": {},
   "source": [
    "Load Model"
   ]
  },
  {
   "cell_type": "code",
   "execution_count": null,
   "metadata": {},
   "outputs": [],
   "source": [
    "model = timm.create_model(\n",
    "    'mobilevitv2_100.cvnets_in1k',\n",
    "    pretrained=True,\n",
    "    num_classes=6,\n",
    "    drop_rate=0.2 # Drop rate 0.2 untuk mengurangi overfitting\n",
    ")"
   ]
  },
  {
   "cell_type": "code",
   "execution_count": 23,
   "metadata": {},
   "outputs": [
    {
     "name": "stdout",
     "output_type": "stream",
     "text": [
      "Model moved to cuda.\n"
     ]
    }
   ],
   "source": [
    "device = torch.device(\"cuda\" if torch.cuda.is_available() else \"cpu\")\n",
    "model.to(device)\n",
    "print(f\"Model moved to {device}.\")"
   ]
  },
  {
   "cell_type": "markdown",
   "metadata": {},
   "source": [
    "Transform"
   ]
  },
  {
   "cell_type": "code",
   "execution_count": null,
   "metadata": {},
   "outputs": [],
   "source": [
    "train_transform = transforms.Compose([\n",
    "    transforms.Resize((224, 224)),\n",
    "    transforms.RandomHorizontalFlip(p=0.5), \n",
    "    transforms.RandomRotation(15),         \n",
    "    transforms.ToTensor(),\n",
    "    transforms.Normalize(mean=[0.485, 0.456, 0.406], std=[0.229, 0.224, 0.225])\n",
    "])\n",
    "\n",
    "val_test_transform = transforms.Compose([\n",
    "    transforms.Resize((224, 224)),\n",
    "    transforms.ToTensor(),\n",
    "    transforms.Normalize(mean=[0.485, 0.456, 0.406], std=[0.229, 0.224, 0.225])\n",
    "])"
   ]
  },
  {
   "cell_type": "markdown",
   "metadata": {},
   "source": [
    "Dataset Loader"
   ]
  },
  {
   "cell_type": "code",
   "execution_count": null,
   "metadata": {},
   "outputs": [],
   "source": [
    "# Gunakan train_transform untuk data training\n",
    "train_dataset = ImageFolder(root=train_dir, transform=train_transform)\n",
    "\n",
    "# Gunakan val_test_transform untuk validasi dan tes\n",
    "val_dataset = ImageFolder(root=val_dir, transform=val_test_transform)\n",
    "test_dataset = ImageFolder(root=test_dir, transform=val_test_transform)\n",
    "\n",
    "\n",
    "train_loader = DataLoader(train_dataset, batch_size=16, shuffle=True, num_workers=2) # Batch size 16 untuk training\n",
    "val_loader = DataLoader(val_dataset, batch_size=32, shuffle=False, num_workers=2) # Batch size 32 untuk validasi\n",
    "test_loader = DataLoader(test_dataset, batch_size=32, shuffle=False, num_workers=2) # Batch size 32 untuk testing"
   ]
  },
  {
   "cell_type": "markdown",
   "metadata": {},
   "source": [
    "Training dan Validasi"
   ]
  },
  {
   "cell_type": "code",
   "execution_count": null,
   "metadata": {},
   "outputs": [
    {
     "name": "stdout",
     "output_type": "stream",
     "text": [
      "\n",
      "Starting model training...\n"
     ]
    },
    {
     "name": "stderr",
     "output_type": "stream",
     "text": [
      "Epoch [1/100] Training: 100%|██████████| 594/594 [00:19<00:00, 31.06it/s, loss=0.638]\n",
      "Epoch [1/100] Validation: 100%|██████████| 86/86 [00:04<00:00, 19.09it/s]\n"
     ]
    },
    {
     "name": "stdout",
     "output_type": "stream",
     "text": [
      "Epoch [1/100] -> Train Loss: 0.8346, Train Acc: 70.41% | Val Loss: 0.6940, Val Acc: 74.31%\n",
      "✅ New best model saved at epoch 1 with Val Loss: 0.6940\n"
     ]
    },
    {
     "name": "stderr",
     "output_type": "stream",
     "text": [
      "Epoch [2/100] Training: 100%|██████████| 594/594 [00:19<00:00, 31.19it/s, loss=1.07] \n",
      "Epoch [2/100] Validation: 100%|██████████| 86/86 [00:04<00:00, 20.32it/s]\n"
     ]
    },
    {
     "name": "stdout",
     "output_type": "stream",
     "text": [
      "Epoch [2/100] -> Train Loss: 0.6568, Train Acc: 76.75% | Val Loss: 0.5896, Val Acc: 79.93%\n",
      "✅ New best model saved at epoch 2 with Val Loss: 0.5896\n"
     ]
    },
    {
     "name": "stderr",
     "output_type": "stream",
     "text": [
      "Epoch [3/100] Training: 100%|██████████| 594/594 [00:19<00:00, 30.89it/s, loss=0.593]\n",
      "Epoch [3/100] Validation: 100%|██████████| 86/86 [00:04<00:00, 19.08it/s]\n"
     ]
    },
    {
     "name": "stdout",
     "output_type": "stream",
     "text": [
      "Epoch [3/100] -> Train Loss: 0.6029, Train Acc: 78.76% | Val Loss: 0.5947, Val Acc: 77.95%\n"
     ]
    },
    {
     "name": "stderr",
     "output_type": "stream",
     "text": [
      "Epoch [4/100] Training: 100%|██████████| 594/594 [00:19<00:00, 30.84it/s, loss=1.15] \n",
      "Epoch [4/100] Validation: 100%|██████████| 86/86 [00:04<00:00, 19.23it/s]\n"
     ]
    },
    {
     "name": "stdout",
     "output_type": "stream",
     "text": [
      "Epoch [4/100] -> Train Loss: 0.5679, Train Acc: 79.74% | Val Loss: 0.5818, Val Acc: 80.19%\n",
      "✅ New best model saved at epoch 4 with Val Loss: 0.5818\n"
     ]
    },
    {
     "name": "stderr",
     "output_type": "stream",
     "text": [
      "Epoch [5/100] Training: 100%|██████████| 594/594 [00:19<00:00, 30.92it/s, loss=0.573]\n",
      "Epoch [5/100] Validation: 100%|██████████| 86/86 [00:04<00:00, 19.97it/s]\n"
     ]
    },
    {
     "name": "stdout",
     "output_type": "stream",
     "text": [
      "Epoch [5/100] -> Train Loss: 0.5377, Train Acc: 80.81% | Val Loss: 0.6065, Val Acc: 78.32%\n"
     ]
    },
    {
     "name": "stderr",
     "output_type": "stream",
     "text": [
      "Epoch [6/100] Training: 100%|██████████| 594/594 [00:19<00:00, 31.10it/s, loss=1.05]  \n",
      "Epoch [6/100] Validation: 100%|██████████| 86/86 [00:04<00:00, 20.11it/s]\n"
     ]
    },
    {
     "name": "stdout",
     "output_type": "stream",
     "text": [
      "Epoch [6/100] -> Train Loss: 0.5123, Train Acc: 81.60% | Val Loss: 0.5442, Val Acc: 81.44%\n",
      "✅ New best model saved at epoch 6 with Val Loss: 0.5442\n"
     ]
    },
    {
     "name": "stderr",
     "output_type": "stream",
     "text": [
      "Epoch [7/100] Training: 100%|██████████| 594/594 [00:19<00:00, 31.00it/s, loss=0.797] \n",
      "Epoch [7/100] Validation: 100%|██████████| 86/86 [00:04<00:00, 19.55it/s]\n"
     ]
    },
    {
     "name": "stdout",
     "output_type": "stream",
     "text": [
      "Epoch [7/100] -> Train Loss: 0.4901, Train Acc: 82.55% | Val Loss: 0.5834, Val Acc: 79.53%\n"
     ]
    },
    {
     "name": "stderr",
     "output_type": "stream",
     "text": [
      "Epoch [8/100] Training: 100%|██████████| 594/594 [00:19<00:00, 30.95it/s, loss=0.709]\n",
      "Epoch [8/100] Validation: 100%|██████████| 86/86 [00:04<00:00, 19.50it/s]\n"
     ]
    },
    {
     "name": "stdout",
     "output_type": "stream",
     "text": [
      "Epoch [8/100] -> Train Loss: 0.4757, Train Acc: 83.39% | Val Loss: 0.5488, Val Acc: 80.71%\n"
     ]
    },
    {
     "name": "stderr",
     "output_type": "stream",
     "text": [
      "Epoch [9/100] Training: 100%|██████████| 594/594 [00:19<00:00, 31.00it/s, loss=0.35]  \n",
      "Epoch [9/100] Validation: 100%|██████████| 86/86 [00:04<00:00, 19.02it/s]\n"
     ]
    },
    {
     "name": "stdout",
     "output_type": "stream",
     "text": [
      "Epoch [9/100] -> Train Loss: 0.4467, Train Acc: 84.00% | Val Loss: 0.5177, Val Acc: 82.21%\n",
      "✅ New best model saved at epoch 9 with Val Loss: 0.5177\n"
     ]
    },
    {
     "name": "stderr",
     "output_type": "stream",
     "text": [
      "Epoch [10/100] Training: 100%|██████████| 594/594 [00:19<00:00, 31.05it/s, loss=0.449] \n",
      "Epoch [10/100] Validation: 100%|██████████| 86/86 [00:04<00:00, 19.40it/s]\n"
     ]
    },
    {
     "name": "stdout",
     "output_type": "stream",
     "text": [
      "Epoch [10/100] -> Train Loss: 0.4259, Train Acc: 84.43% | Val Loss: 0.5876, Val Acc: 78.72%\n"
     ]
    },
    {
     "name": "stderr",
     "output_type": "stream",
     "text": [
      "Epoch [11/100] Training: 100%|██████████| 594/594 [00:19<00:00, 30.85it/s, loss=0.243] \n",
      "Epoch [11/100] Validation: 100%|██████████| 86/86 [00:04<00:00, 20.08it/s]\n"
     ]
    },
    {
     "name": "stdout",
     "output_type": "stream",
     "text": [
      "Epoch [11/100] -> Train Loss: 0.4197, Train Acc: 84.97% | Val Loss: 0.5982, Val Acc: 80.89%\n"
     ]
    },
    {
     "name": "stderr",
     "output_type": "stream",
     "text": [
      "Epoch [12/100] Training: 100%|██████████| 594/594 [00:19<00:00, 31.13it/s, loss=0.189] \n",
      "Epoch [12/100] Validation: 100%|██████████| 86/86 [00:04<00:00, 20.02it/s]\n"
     ]
    },
    {
     "name": "stdout",
     "output_type": "stream",
     "text": [
      "Epoch [12/100] -> Train Loss: 0.4001, Train Acc: 85.51% | Val Loss: 0.5500, Val Acc: 81.62%\n"
     ]
    },
    {
     "name": "stderr",
     "output_type": "stream",
     "text": [
      "Epoch [13/100] Training: 100%|██████████| 594/594 [00:19<00:00, 31.10it/s, loss=0.869] \n",
      "Epoch [13/100] Validation: 100%|██████████| 86/86 [00:04<00:00, 19.51it/s]\n"
     ]
    },
    {
     "name": "stdout",
     "output_type": "stream",
     "text": [
      "Epoch [13/100] -> Train Loss: 0.3662, Train Acc: 86.53% | Val Loss: 0.5776, Val Acc: 81.92%\n"
     ]
    },
    {
     "name": "stderr",
     "output_type": "stream",
     "text": [
      "Epoch [14/100] Training: 100%|██████████| 594/594 [00:19<00:00, 31.05it/s, loss=0.244] \n",
      "Epoch [14/100] Validation: 100%|██████████| 86/86 [00:04<00:00, 20.06it/s]\n"
     ]
    },
    {
     "name": "stdout",
     "output_type": "stream",
     "text": [
      "Epoch [14/100] -> Train Loss: 0.3505, Train Acc: 87.10% | Val Loss: 0.5646, Val Acc: 80.96%\n"
     ]
    },
    {
     "name": "stderr",
     "output_type": "stream",
     "text": [
      "Epoch [15/100] Training: 100%|██████████| 594/594 [00:19<00:00, 31.00it/s, loss=0.192] \n",
      "Epoch [15/100] Validation: 100%|██████████| 86/86 [00:04<00:00, 19.83it/s]\n"
     ]
    },
    {
     "name": "stdout",
     "output_type": "stream",
     "text": [
      "Epoch [15/100] -> Train Loss: 0.3357, Train Acc: 87.98% | Val Loss: 0.6032, Val Acc: 79.46%\n"
     ]
    },
    {
     "name": "stderr",
     "output_type": "stream",
     "text": [
      "Epoch [16/100] Training: 100%|██████████| 594/594 [00:19<00:00, 31.03it/s, loss=0.103] \n",
      "Epoch [16/100] Validation: 100%|██████████| 86/86 [00:04<00:00, 20.05it/s]\n"
     ]
    },
    {
     "name": "stdout",
     "output_type": "stream",
     "text": [
      "Epoch [16/100] -> Train Loss: 0.2392, Train Acc: 90.98% | Val Loss: 0.4994, Val Acc: 84.49%\n",
      "✅ New best model saved at epoch 16 with Val Loss: 0.4994\n"
     ]
    },
    {
     "name": "stderr",
     "output_type": "stream",
     "text": [
      "Epoch [17/100] Training: 100%|██████████| 594/594 [00:19<00:00, 30.89it/s, loss=0.236]  \n",
      "Epoch [17/100] Validation: 100%|██████████| 86/86 [00:04<00:00, 19.82it/s]\n"
     ]
    },
    {
     "name": "stdout",
     "output_type": "stream",
     "text": [
      "Epoch [17/100] -> Train Loss: 0.1834, Train Acc: 93.42% | Val Loss: 0.5201, Val Acc: 84.23%\n"
     ]
    },
    {
     "name": "stderr",
     "output_type": "stream",
     "text": [
      "Epoch [18/100] Training: 100%|██████████| 594/594 [00:19<00:00, 30.93it/s, loss=0.289] \n",
      "Epoch [18/100] Validation: 100%|██████████| 86/86 [00:04<00:00, 19.14it/s]\n"
     ]
    },
    {
     "name": "stdout",
     "output_type": "stream",
     "text": [
      "Epoch [18/100] -> Train Loss: 0.1530, Train Acc: 94.44% | Val Loss: 0.5268, Val Acc: 84.56%\n"
     ]
    },
    {
     "name": "stderr",
     "output_type": "stream",
     "text": [
      "Epoch [19/100] Training: 100%|██████████| 594/594 [00:19<00:00, 30.94it/s, loss=0.144]  \n",
      "Epoch [19/100] Validation: 100%|██████████| 86/86 [00:04<00:00, 20.17it/s]\n"
     ]
    },
    {
     "name": "stdout",
     "output_type": "stream",
     "text": [
      "Epoch [19/100] -> Train Loss: 0.1427, Train Acc: 95.08% | Val Loss: 0.5536, Val Acc: 84.34%\n"
     ]
    },
    {
     "name": "stderr",
     "output_type": "stream",
     "text": [
      "Epoch [20/100] Training: 100%|██████████| 594/594 [00:19<00:00, 31.02it/s, loss=0.0152] \n",
      "Epoch [20/100] Validation: 100%|██████████| 86/86 [00:04<00:00, 19.41it/s]\n"
     ]
    },
    {
     "name": "stdout",
     "output_type": "stream",
     "text": [
      "Epoch [20/100] -> Train Loss: 0.1240, Train Acc: 95.73% | Val Loss: 0.6034, Val Acc: 84.20%\n"
     ]
    },
    {
     "name": "stderr",
     "output_type": "stream",
     "text": [
      "Epoch [21/100] Training: 100%|██████████| 594/594 [00:19<00:00, 30.88it/s, loss=0.198]  \n",
      "Epoch [21/100] Validation: 100%|██████████| 86/86 [00:04<00:00, 20.20it/s]\n"
     ]
    },
    {
     "name": "stdout",
     "output_type": "stream",
     "text": [
      "Epoch [21/100] -> Train Loss: 0.1085, Train Acc: 96.19% | Val Loss: 0.6140, Val Acc: 84.09%\n"
     ]
    },
    {
     "name": "stderr",
     "output_type": "stream",
     "text": [
      "Epoch [22/100] Training: 100%|██████████| 594/594 [00:19<00:00, 30.91it/s, loss=0.0236] \n",
      "Epoch [22/100] Validation: 100%|██████████| 86/86 [00:04<00:00, 19.35it/s]\n"
     ]
    },
    {
     "name": "stdout",
     "output_type": "stream",
     "text": [
      "Epoch [22/100] -> Train Loss: 0.0931, Train Acc: 96.78% | Val Loss: 0.6356, Val Acc: 84.05%\n"
     ]
    },
    {
     "name": "stderr",
     "output_type": "stream",
     "text": [
      "Epoch [23/100] Training: 100%|██████████| 594/594 [00:19<00:00, 31.03it/s, loss=0.0213] \n",
      "Epoch [23/100] Validation: 100%|██████████| 86/86 [00:04<00:00, 20.38it/s]\n"
     ]
    },
    {
     "name": "stdout",
     "output_type": "stream",
     "text": [
      "Epoch [23/100] -> Train Loss: 0.0839, Train Acc: 96.87% | Val Loss: 0.6181, Val Acc: 84.01%\n"
     ]
    },
    {
     "name": "stderr",
     "output_type": "stream",
     "text": [
      "Epoch [24/100] Training: 100%|██████████| 594/594 [00:19<00:00, 30.84it/s, loss=0.0173] \n",
      "Epoch [24/100] Validation: 100%|██████████| 86/86 [00:04<00:00, 20.14it/s]\n"
     ]
    },
    {
     "name": "stdout",
     "output_type": "stream",
     "text": [
      "Epoch [24/100] -> Train Loss: 0.0871, Train Acc: 97.12% | Val Loss: 0.6161, Val Acc: 84.09%\n"
     ]
    },
    {
     "name": "stderr",
     "output_type": "stream",
     "text": [
      "Epoch [25/100] Training: 100%|██████████| 594/594 [00:19<00:00, 30.96it/s, loss=0.00764]\n",
      "Epoch [25/100] Validation: 100%|██████████| 86/86 [00:04<00:00, 19.50it/s]\n"
     ]
    },
    {
     "name": "stdout",
     "output_type": "stream",
     "text": [
      "Epoch [25/100] -> Train Loss: 0.0814, Train Acc: 97.33% | Val Loss: 0.6263, Val Acc: 84.09%\n"
     ]
    },
    {
     "name": "stderr",
     "output_type": "stream",
     "text": [
      "Epoch [26/100] Training: 100%|██████████| 594/594 [00:18<00:00, 31.60it/s, loss=0.0152] \n",
      "Epoch [26/100] Validation: 100%|██████████| 86/86 [00:04<00:00, 19.12it/s]\n"
     ]
    },
    {
     "name": "stdout",
     "output_type": "stream",
     "text": [
      "Epoch [26/100] -> Train Loss: 0.0803, Train Acc: 97.49% | Val Loss: 0.6287, Val Acc: 84.53%\n"
     ]
    },
    {
     "name": "stderr",
     "output_type": "stream",
     "text": [
      "Epoch [27/100] Training: 100%|██████████| 594/594 [00:19<00:00, 31.09it/s, loss=0.383]  \n",
      "Epoch [27/100] Validation: 100%|██████████| 86/86 [00:04<00:00, 20.28it/s]\n"
     ]
    },
    {
     "name": "stdout",
     "output_type": "stream",
     "text": [
      "Epoch [27/100] -> Train Loss: 0.0821, Train Acc: 97.36% | Val Loss: 0.6475, Val Acc: 84.75%\n"
     ]
    },
    {
     "name": "stderr",
     "output_type": "stream",
     "text": [
      "Epoch [28/100] Training: 100%|██████████| 594/594 [00:19<00:00, 31.08it/s, loss=0.0453] \n",
      "Epoch [28/100] Validation: 100%|██████████| 86/86 [00:04<00:00, 20.31it/s]\n"
     ]
    },
    {
     "name": "stdout",
     "output_type": "stream",
     "text": [
      "Epoch [28/100] -> Train Loss: 0.0749, Train Acc: 97.48% | Val Loss: 0.6242, Val Acc: 84.53%\n"
     ]
    },
    {
     "name": "stderr",
     "output_type": "stream",
     "text": [
      "Epoch [29/100] Training: 100%|██████████| 594/594 [00:18<00:00, 31.41it/s, loss=0.016]  \n",
      "Epoch [29/100] Validation: 100%|██████████| 86/86 [00:04<00:00, 20.35it/s]\n"
     ]
    },
    {
     "name": "stdout",
     "output_type": "stream",
     "text": [
      "Epoch [29/100] -> Train Loss: 0.0777, Train Acc: 97.38% | Val Loss: 0.6402, Val Acc: 84.75%\n"
     ]
    },
    {
     "name": "stderr",
     "output_type": "stream",
     "text": [
      "Epoch [30/100] Training: 100%|██████████| 594/594 [00:18<00:00, 31.34it/s, loss=0.00928]\n",
      "Epoch [30/100] Validation: 100%|██████████| 86/86 [00:04<00:00, 20.55it/s]\n"
     ]
    },
    {
     "name": "stdout",
     "output_type": "stream",
     "text": [
      "Epoch [30/100] -> Train Loss: 0.0789, Train Acc: 97.30% | Val Loss: 0.6302, Val Acc: 84.12%\n"
     ]
    },
    {
     "name": "stderr",
     "output_type": "stream",
     "text": [
      "Epoch [31/100] Training: 100%|██████████| 594/594 [00:18<00:00, 31.52it/s, loss=0.232]  \n",
      "Epoch [31/100] Validation: 100%|██████████| 86/86 [00:04<00:00, 20.18it/s]\n"
     ]
    },
    {
     "name": "stdout",
     "output_type": "stream",
     "text": [
      "Epoch [31/100] -> Train Loss: 0.0709, Train Acc: 97.89% | Val Loss: 0.6348, Val Acc: 84.31%\n"
     ]
    },
    {
     "name": "stderr",
     "output_type": "stream",
     "text": [
      "Epoch [32/100] Training: 100%|██████████| 594/594 [00:18<00:00, 31.40it/s, loss=0.292]  \n",
      "Epoch [32/100] Validation: 100%|██████████| 86/86 [00:04<00:00, 19.82it/s]\n"
     ]
    },
    {
     "name": "stdout",
     "output_type": "stream",
     "text": [
      "Epoch [32/100] -> Train Loss: 0.0763, Train Acc: 97.21% | Val Loss: 0.6414, Val Acc: 84.16%\n"
     ]
    },
    {
     "name": "stderr",
     "output_type": "stream",
     "text": [
      "Epoch [33/100] Training: 100%|██████████| 594/594 [00:18<00:00, 31.37it/s, loss=0.74]   \n",
      "Epoch [33/100] Validation: 100%|██████████| 86/86 [00:04<00:00, 20.17it/s]\n"
     ]
    },
    {
     "name": "stdout",
     "output_type": "stream",
     "text": [
      "Epoch [33/100] -> Train Loss: 0.0744, Train Acc: 97.50% | Val Loss: 0.6404, Val Acc: 84.67%\n"
     ]
    },
    {
     "name": "stderr",
     "output_type": "stream",
     "text": [
      "Epoch [34/100] Training: 100%|██████████| 594/594 [00:18<00:00, 31.45it/s, loss=0.132]  \n",
      "Epoch [34/100] Validation: 100%|██████████| 86/86 [00:04<00:00, 19.45it/s]\n"
     ]
    },
    {
     "name": "stdout",
     "output_type": "stream",
     "text": [
      "Epoch [34/100] -> Train Loss: 0.0689, Train Acc: 97.69% | Val Loss: 0.6349, Val Acc: 83.87%\n"
     ]
    },
    {
     "name": "stderr",
     "output_type": "stream",
     "text": [
      "Epoch [35/100] Training: 100%|██████████| 594/594 [00:19<00:00, 31.21it/s, loss=0.0665] \n",
      "Epoch [35/100] Validation: 100%|██████████| 86/86 [00:04<00:00, 19.67it/s]\n"
     ]
    },
    {
     "name": "stdout",
     "output_type": "stream",
     "text": [
      "Epoch [35/100] -> Train Loss: 0.0711, Train Acc: 97.88% | Val Loss: 0.6432, Val Acc: 84.86%\n"
     ]
    },
    {
     "name": "stderr",
     "output_type": "stream",
     "text": [
      "Epoch [36/100] Training: 100%|██████████| 594/594 [00:19<00:00, 31.22it/s, loss=0.00182]\n",
      "Epoch [36/100] Validation: 100%|██████████| 86/86 [00:04<00:00, 19.60it/s]\n"
     ]
    },
    {
     "name": "stdout",
     "output_type": "stream",
     "text": [
      "Epoch [36/100] -> Train Loss: 0.0717, Train Acc: 97.54% | Val Loss: 0.6278, Val Acc: 84.20%\n"
     ]
    },
    {
     "name": "stderr",
     "output_type": "stream",
     "text": [
      "Epoch [37/100] Training: 100%|██████████| 594/594 [00:18<00:00, 31.51it/s, loss=0.0175] \n",
      "Epoch [37/100] Validation: 100%|██████████| 86/86 [00:04<00:00, 19.47it/s]\n"
     ]
    },
    {
     "name": "stdout",
     "output_type": "stream",
     "text": [
      "Epoch [37/100] -> Train Loss: 0.0758, Train Acc: 97.50% | Val Loss: 0.6294, Val Acc: 84.49%\n"
     ]
    },
    {
     "name": "stderr",
     "output_type": "stream",
     "text": [
      "Epoch [38/100] Training: 100%|██████████| 594/594 [00:19<00:00, 31.23it/s, loss=0.0469] \n",
      "Epoch [38/100] Validation: 100%|██████████| 86/86 [00:04<00:00, 19.62it/s]\n"
     ]
    },
    {
     "name": "stdout",
     "output_type": "stream",
     "text": [
      "Epoch [38/100] -> Train Loss: 0.0721, Train Acc: 97.66% | Val Loss: 0.6245, Val Acc: 84.38%\n"
     ]
    },
    {
     "name": "stderr",
     "output_type": "stream",
     "text": [
      "Epoch [39/100] Training: 100%|██████████| 594/594 [00:18<00:00, 31.51it/s, loss=0.0456] \n",
      "Epoch [39/100] Validation: 100%|██████████| 86/86 [00:04<00:00, 20.16it/s]\n"
     ]
    },
    {
     "name": "stdout",
     "output_type": "stream",
     "text": [
      "Epoch [39/100] -> Train Loss: 0.0748, Train Acc: 97.36% | Val Loss: 0.6357, Val Acc: 84.31%\n"
     ]
    },
    {
     "name": "stderr",
     "output_type": "stream",
     "text": [
      "Epoch [40/100] Training: 100%|██████████| 594/594 [00:19<00:00, 31.20it/s, loss=0.0752] \n",
      "Epoch [40/100] Validation: 100%|██████████| 86/86 [00:04<00:00, 20.10it/s]\n"
     ]
    },
    {
     "name": "stdout",
     "output_type": "stream",
     "text": [
      "Epoch [40/100] -> Train Loss: 0.0710, Train Acc: 97.57% | Val Loss: 0.6306, Val Acc: 84.27%\n"
     ]
    },
    {
     "name": "stderr",
     "output_type": "stream",
     "text": [
      "Epoch [41/100] Training: 100%|██████████| 594/594 [00:19<00:00, 31.26it/s, loss=0.0749] \n",
      "Epoch [41/100] Validation: 100%|██████████| 86/86 [00:04<00:00, 20.15it/s]\n"
     ]
    },
    {
     "name": "stdout",
     "output_type": "stream",
     "text": [
      "Epoch [41/100] -> Train Loss: 0.0733, Train Acc: 97.73% | Val Loss: 0.6323, Val Acc: 84.34%\n"
     ]
    },
    {
     "name": "stderr",
     "output_type": "stream",
     "text": [
      "Epoch [42/100] Training: 100%|██████████| 594/594 [00:19<00:00, 31.17it/s, loss=0.0612] \n",
      "Epoch [42/100] Validation: 100%|██████████| 86/86 [00:04<00:00, 20.43it/s]\n"
     ]
    },
    {
     "name": "stdout",
     "output_type": "stream",
     "text": [
      "Epoch [42/100] -> Train Loss: 0.0690, Train Acc: 97.57% | Val Loss: 0.6323, Val Acc: 84.75%\n"
     ]
    },
    {
     "name": "stderr",
     "output_type": "stream",
     "text": [
      "Epoch [43/100] Training: 100%|██████████| 594/594 [00:19<00:00, 31.16it/s, loss=0.13]   \n",
      "Epoch [43/100] Validation: 100%|██████████| 86/86 [00:04<00:00, 19.19it/s]\n"
     ]
    },
    {
     "name": "stdout",
     "output_type": "stream",
     "text": [
      "Epoch [43/100] -> Train Loss: 0.0772, Train Acc: 97.37% | Val Loss: 0.6405, Val Acc: 84.20%\n"
     ]
    },
    {
     "name": "stderr",
     "output_type": "stream",
     "text": [
      "Epoch [44/100] Training: 100%|██████████| 594/594 [00:18<00:00, 31.28it/s, loss=0.00643]\n",
      "Epoch [44/100] Validation: 100%|██████████| 86/86 [00:04<00:00, 20.36it/s]\n"
     ]
    },
    {
     "name": "stdout",
     "output_type": "stream",
     "text": [
      "Epoch [44/100] -> Train Loss: 0.0736, Train Acc: 97.48% | Val Loss: 0.6416, Val Acc: 83.76%\n"
     ]
    },
    {
     "name": "stderr",
     "output_type": "stream",
     "text": [
      "Epoch [45/100] Training: 100%|██████████| 594/594 [00:18<00:00, 31.64it/s, loss=0.0289] \n",
      "Epoch [45/100] Validation: 100%|██████████| 86/86 [00:04<00:00, 20.56it/s]\n"
     ]
    },
    {
     "name": "stdout",
     "output_type": "stream",
     "text": [
      "Epoch [45/100] -> Train Loss: 0.0720, Train Acc: 97.55% | Val Loss: 0.6383, Val Acc: 84.45%\n"
     ]
    },
    {
     "name": "stderr",
     "output_type": "stream",
     "text": [
      "Epoch [46/100] Training: 100%|██████████| 594/594 [00:18<00:00, 31.27it/s, loss=0.0159]  \n",
      "Epoch [46/100] Validation: 100%|██████████| 86/86 [00:04<00:00, 19.34it/s]\n"
     ]
    },
    {
     "name": "stdout",
     "output_type": "stream",
     "text": [
      "Epoch [46/100] -> Train Loss: 0.0774, Train Acc: 97.33% | Val Loss: 0.6546, Val Acc: 84.16%\n"
     ]
    },
    {
     "name": "stderr",
     "output_type": "stream",
     "text": [
      "Epoch [47/100] Training: 100%|██████████| 594/594 [00:19<00:00, 31.16it/s, loss=0.0747] \n",
      "Epoch [47/100] Validation: 100%|██████████| 86/86 [00:04<00:00, 19.25it/s]\n"
     ]
    },
    {
     "name": "stdout",
     "output_type": "stream",
     "text": [
      "Epoch [47/100] -> Train Loss: 0.0773, Train Acc: 97.52% | Val Loss: 0.6426, Val Acc: 84.64%\n"
     ]
    },
    {
     "name": "stderr",
     "output_type": "stream",
     "text": [
      "Epoch [48/100] Training: 100%|██████████| 594/594 [00:19<00:00, 31.25it/s, loss=0.0354] \n",
      "Epoch [48/100] Validation: 100%|██████████| 86/86 [00:04<00:00, 19.65it/s]\n"
     ]
    },
    {
     "name": "stdout",
     "output_type": "stream",
     "text": [
      "Epoch [48/100] -> Train Loss: 0.0758, Train Acc: 97.41% | Val Loss: 0.6379, Val Acc: 84.60%\n"
     ]
    },
    {
     "name": "stderr",
     "output_type": "stream",
     "text": [
      "Epoch [49/100] Training: 100%|██████████| 594/594 [00:18<00:00, 31.78it/s, loss=0.147]  \n",
      "Epoch [49/100] Validation: 100%|██████████| 86/86 [00:04<00:00, 19.29it/s]\n"
     ]
    },
    {
     "name": "stdout",
     "output_type": "stream",
     "text": [
      "Epoch [49/100] -> Train Loss: 0.0747, Train Acc: 97.32% | Val Loss: 0.6298, Val Acc: 84.60%\n"
     ]
    },
    {
     "name": "stderr",
     "output_type": "stream",
     "text": [
      "Epoch [50/100] Training: 100%|██████████| 594/594 [00:18<00:00, 31.54it/s, loss=0.00696]\n",
      "Epoch [50/100] Validation: 100%|██████████| 86/86 [00:04<00:00, 19.98it/s]\n"
     ]
    },
    {
     "name": "stdout",
     "output_type": "stream",
     "text": [
      "Epoch [50/100] -> Train Loss: 0.0738, Train Acc: 97.47% | Val Loss: 0.6435, Val Acc: 84.42%\n"
     ]
    },
    {
     "name": "stderr",
     "output_type": "stream",
     "text": [
      "Epoch [51/100] Training: 100%|██████████| 594/594 [00:18<00:00, 31.59it/s, loss=0.0411] \n",
      "Epoch [51/100] Validation: 100%|██████████| 86/86 [00:04<00:00, 20.62it/s]\n"
     ]
    },
    {
     "name": "stdout",
     "output_type": "stream",
     "text": [
      "Epoch [51/100] -> Train Loss: 0.0728, Train Acc: 97.57% | Val Loss: 0.6332, Val Acc: 84.56%\n"
     ]
    },
    {
     "name": "stderr",
     "output_type": "stream",
     "text": [
      "Epoch [52/100] Training: 100%|██████████| 594/594 [00:19<00:00, 31.23it/s, loss=0.351]  \n",
      "Epoch [52/100] Validation: 100%|██████████| 86/86 [00:04<00:00, 20.35it/s]\n"
     ]
    },
    {
     "name": "stdout",
     "output_type": "stream",
     "text": [
      "Epoch [52/100] -> Train Loss: 0.0714, Train Acc: 97.66% | Val Loss: 0.6662, Val Acc: 84.45%\n"
     ]
    },
    {
     "name": "stderr",
     "output_type": "stream",
     "text": [
      "Epoch [53/100] Training: 100%|██████████| 594/594 [00:18<00:00, 31.28it/s, loss=0.133]  \n",
      "Epoch [53/100] Validation: 100%|██████████| 86/86 [00:04<00:00, 20.16it/s]\n"
     ]
    },
    {
     "name": "stdout",
     "output_type": "stream",
     "text": [
      "Epoch [53/100] -> Train Loss: 0.0733, Train Acc: 97.56% | Val Loss: 0.6307, Val Acc: 84.27%\n"
     ]
    },
    {
     "name": "stderr",
     "output_type": "stream",
     "text": [
      "Epoch [54/100] Training: 100%|██████████| 594/594 [00:18<00:00, 31.32it/s, loss=0.218]  \n",
      "Epoch [54/100] Validation: 100%|██████████| 86/86 [00:04<00:00, 20.04it/s]\n"
     ]
    },
    {
     "name": "stdout",
     "output_type": "stream",
     "text": [
      "Epoch [54/100] -> Train Loss: 0.0706, Train Acc: 97.50% | Val Loss: 0.6397, Val Acc: 84.31%\n"
     ]
    },
    {
     "name": "stderr",
     "output_type": "stream",
     "text": [
      "Epoch [55/100] Training: 100%|██████████| 594/594 [00:19<00:00, 31.20it/s, loss=0.00477]\n",
      "Epoch [55/100] Validation: 100%|██████████| 86/86 [00:04<00:00, 19.52it/s]\n"
     ]
    },
    {
     "name": "stdout",
     "output_type": "stream",
     "text": [
      "Epoch [55/100] -> Train Loss: 0.0706, Train Acc: 97.53% | Val Loss: 0.6477, Val Acc: 84.56%\n"
     ]
    },
    {
     "name": "stderr",
     "output_type": "stream",
     "text": [
      "Epoch [56/100] Training: 100%|██████████| 594/594 [00:18<00:00, 31.69it/s, loss=0.13]   \n",
      "Epoch [56/100] Validation: 100%|██████████| 86/86 [00:04<00:00, 19.88it/s]\n"
     ]
    },
    {
     "name": "stdout",
     "output_type": "stream",
     "text": [
      "Epoch [56/100] -> Train Loss: 0.0729, Train Acc: 97.47% | Val Loss: 0.6283, Val Acc: 84.27%\n"
     ]
    },
    {
     "name": "stderr",
     "output_type": "stream",
     "text": [
      "Epoch [57/100] Training: 100%|██████████| 594/594 [00:18<00:00, 31.44it/s, loss=0.0223] \n",
      "Epoch [57/100] Validation: 100%|██████████| 86/86 [00:04<00:00, 19.50it/s]\n"
     ]
    },
    {
     "name": "stdout",
     "output_type": "stream",
     "text": [
      "Epoch [57/100] -> Train Loss: 0.0743, Train Acc: 97.42% | Val Loss: 0.6398, Val Acc: 84.09%\n"
     ]
    },
    {
     "name": "stderr",
     "output_type": "stream",
     "text": [
      "Epoch [58/100] Training: 100%|██████████| 594/594 [00:18<00:00, 31.43it/s, loss=0.201]  \n",
      "Epoch [58/100] Validation: 100%|██████████| 86/86 [00:04<00:00, 19.67it/s]\n"
     ]
    },
    {
     "name": "stdout",
     "output_type": "stream",
     "text": [
      "Epoch [58/100] -> Train Loss: 0.0736, Train Acc: 97.37% | Val Loss: 0.6446, Val Acc: 84.82%\n"
     ]
    },
    {
     "name": "stderr",
     "output_type": "stream",
     "text": [
      "Epoch [59/100] Training: 100%|██████████| 594/594 [00:19<00:00, 31.19it/s, loss=0.0684] \n",
      "Epoch [59/100] Validation: 100%|██████████| 86/86 [00:04<00:00, 19.99it/s]\n"
     ]
    },
    {
     "name": "stdout",
     "output_type": "stream",
     "text": [
      "Epoch [59/100] -> Train Loss: 0.0785, Train Acc: 97.42% | Val Loss: 0.6311, Val Acc: 84.42%\n"
     ]
    },
    {
     "name": "stderr",
     "output_type": "stream",
     "text": [
      "Epoch [60/100] Training: 100%|██████████| 594/594 [00:19<00:00, 31.13it/s, loss=0.0206] \n",
      "Epoch [60/100] Validation: 100%|██████████| 86/86 [00:04<00:00, 20.51it/s]\n"
     ]
    },
    {
     "name": "stdout",
     "output_type": "stream",
     "text": [
      "Epoch [60/100] -> Train Loss: 0.0802, Train Acc: 97.29% | Val Loss: 0.6375, Val Acc: 84.60%\n"
     ]
    },
    {
     "name": "stderr",
     "output_type": "stream",
     "text": [
      "Epoch [61/100] Training: 100%|██████████| 594/594 [00:19<00:00, 31.26it/s, loss=0.038]  \n",
      "Epoch [61/100] Validation: 100%|██████████| 86/86 [00:04<00:00, 20.27it/s]\n"
     ]
    },
    {
     "name": "stdout",
     "output_type": "stream",
     "text": [
      "Epoch [61/100] -> Train Loss: 0.0708, Train Acc: 97.53% | Val Loss: 0.6441, Val Acc: 83.94%\n"
     ]
    },
    {
     "name": "stderr",
     "output_type": "stream",
     "text": [
      "Epoch [62/100] Training: 100%|██████████| 594/594 [00:19<00:00, 31.20it/s, loss=0.0206] \n",
      "Epoch [62/100] Validation: 100%|██████████| 86/86 [00:04<00:00, 19.48it/s]\n"
     ]
    },
    {
     "name": "stdout",
     "output_type": "stream",
     "text": [
      "Epoch [62/100] -> Train Loss: 0.0739, Train Acc: 97.53% | Val Loss: 0.6442, Val Acc: 84.09%\n"
     ]
    },
    {
     "name": "stderr",
     "output_type": "stream",
     "text": [
      "Epoch [63/100] Training: 100%|██████████| 594/594 [00:19<00:00, 31.15it/s, loss=0.0107] \n",
      "Epoch [63/100] Validation: 100%|██████████| 86/86 [00:04<00:00, 19.95it/s]\n"
     ]
    },
    {
     "name": "stdout",
     "output_type": "stream",
     "text": [
      "Epoch [63/100] -> Train Loss: 0.0662, Train Acc: 97.68% | Val Loss: 0.6337, Val Acc: 84.38%\n"
     ]
    },
    {
     "name": "stderr",
     "output_type": "stream",
     "text": [
      "Epoch [64/100] Training: 100%|██████████| 594/594 [00:18<00:00, 31.71it/s, loss=0.0148] \n",
      "Epoch [64/100] Validation: 100%|██████████| 86/86 [00:04<00:00, 19.67it/s]\n"
     ]
    },
    {
     "name": "stdout",
     "output_type": "stream",
     "text": [
      "Epoch [64/100] -> Train Loss: 0.0789, Train Acc: 97.36% | Val Loss: 0.6384, Val Acc: 84.20%\n"
     ]
    },
    {
     "name": "stderr",
     "output_type": "stream",
     "text": [
      "Epoch [65/100] Training: 100%|██████████| 594/594 [00:18<00:00, 31.31it/s, loss=0.00739]\n",
      "Epoch [65/100] Validation: 100%|██████████| 86/86 [00:04<00:00, 19.43it/s]\n"
     ]
    },
    {
     "name": "stdout",
     "output_type": "stream",
     "text": [
      "Epoch [65/100] -> Train Loss: 0.0823, Train Acc: 97.22% | Val Loss: 0.6494, Val Acc: 84.75%\n"
     ]
    },
    {
     "name": "stderr",
     "output_type": "stream",
     "text": [
      "Epoch [66/100] Training: 100%|██████████| 594/594 [00:18<00:00, 31.42it/s, loss=0.0579] \n",
      "Epoch [66/100] Validation: 100%|██████████| 86/86 [00:04<00:00, 19.67it/s]\n"
     ]
    },
    {
     "name": "stdout",
     "output_type": "stream",
     "text": [
      "Epoch [66/100] -> Train Loss: 0.0682, Train Acc: 97.58% | Val Loss: 0.6282, Val Acc: 84.05%\n"
     ]
    },
    {
     "name": "stderr",
     "output_type": "stream",
     "text": [
      "Epoch [67/100] Training: 100%|██████████| 594/594 [00:18<00:00, 31.70it/s, loss=0.124]  \n",
      "Epoch [67/100] Validation: 100%|██████████| 86/86 [00:04<00:00, 19.26it/s]\n"
     ]
    },
    {
     "name": "stdout",
     "output_type": "stream",
     "text": [
      "Epoch [67/100] -> Train Loss: 0.0714, Train Acc: 97.50% | Val Loss: 0.6463, Val Acc: 84.49%\n"
     ]
    },
    {
     "name": "stderr",
     "output_type": "stream",
     "text": [
      "Epoch [68/100] Training: 100%|██████████| 594/594 [00:18<00:00, 31.68it/s, loss=0.0172] \n",
      "Epoch [68/100] Validation: 100%|██████████| 86/86 [00:04<00:00, 20.67it/s]\n"
     ]
    },
    {
     "name": "stdout",
     "output_type": "stream",
     "text": [
      "Epoch [68/100] -> Train Loss: 0.0742, Train Acc: 97.41% | Val Loss: 0.6344, Val Acc: 84.45%\n"
     ]
    },
    {
     "name": "stderr",
     "output_type": "stream",
     "text": [
      "Epoch [69/100] Training: 100%|██████████| 594/594 [00:19<00:00, 31.16it/s, loss=0.00319]\n",
      "Epoch [69/100] Validation: 100%|██████████| 86/86 [00:04<00:00, 19.53it/s]\n"
     ]
    },
    {
     "name": "stdout",
     "output_type": "stream",
     "text": [
      "Epoch [69/100] -> Train Loss: 0.0774, Train Acc: 97.37% | Val Loss: 0.6441, Val Acc: 84.42%\n"
     ]
    },
    {
     "name": "stderr",
     "output_type": "stream",
     "text": [
      "Epoch [70/100] Training: 100%|██████████| 594/594 [00:19<00:00, 31.24it/s, loss=0.0643] \n",
      "Epoch [70/100] Validation: 100%|██████████| 86/86 [00:04<00:00, 20.02it/s]\n"
     ]
    },
    {
     "name": "stdout",
     "output_type": "stream",
     "text": [
      "Epoch [70/100] -> Train Loss: 0.0719, Train Acc: 97.54% | Val Loss: 0.6278, Val Acc: 84.01%\n"
     ]
    },
    {
     "name": "stderr",
     "output_type": "stream",
     "text": [
      "Epoch [71/100] Training: 100%|██████████| 594/594 [00:19<00:00, 31.13it/s, loss=0.0672] \n",
      "Epoch [71/100] Validation: 100%|██████████| 86/86 [00:04<00:00, 19.41it/s]\n"
     ]
    },
    {
     "name": "stdout",
     "output_type": "stream",
     "text": [
      "Epoch [71/100] -> Train Loss: 0.0728, Train Acc: 97.47% | Val Loss: 0.6362, Val Acc: 84.05%\n"
     ]
    },
    {
     "name": "stderr",
     "output_type": "stream",
     "text": [
      "Epoch [72/100] Training: 100%|██████████| 594/594 [00:19<00:00, 31.22it/s, loss=0.00516]\n",
      "Epoch [72/100] Validation: 100%|██████████| 86/86 [00:04<00:00, 19.13it/s]\n"
     ]
    },
    {
     "name": "stdout",
     "output_type": "stream",
     "text": [
      "Epoch [72/100] -> Train Loss: 0.0682, Train Acc: 97.62% | Val Loss: 0.6360, Val Acc: 83.90%\n"
     ]
    },
    {
     "name": "stderr",
     "output_type": "stream",
     "text": [
      "Epoch [73/100] Training: 100%|██████████| 594/594 [00:18<00:00, 31.33it/s, loss=0.0187] \n",
      "Epoch [73/100] Validation: 100%|██████████| 86/86 [00:04<00:00, 19.32it/s]\n"
     ]
    },
    {
     "name": "stdout",
     "output_type": "stream",
     "text": [
      "Epoch [73/100] -> Train Loss: 0.0685, Train Acc: 97.72% | Val Loss: 0.6476, Val Acc: 84.23%\n"
     ]
    },
    {
     "name": "stderr",
     "output_type": "stream",
     "text": [
      "Epoch [74/100] Training: 100%|██████████| 594/594 [00:19<00:00, 31.17it/s, loss=0.00932]\n",
      "Epoch [74/100] Validation: 100%|██████████| 86/86 [00:04<00:00, 19.76it/s]\n"
     ]
    },
    {
     "name": "stdout",
     "output_type": "stream",
     "text": [
      "Epoch [74/100] -> Train Loss: 0.0735, Train Acc: 97.42% | Val Loss: 0.6375, Val Acc: 83.79%\n"
     ]
    },
    {
     "name": "stderr",
     "output_type": "stream",
     "text": [
      "Epoch [75/100] Training: 100%|██████████| 594/594 [00:18<00:00, 31.48it/s, loss=0.00604]\n",
      "Epoch [75/100] Validation: 100%|██████████| 86/86 [00:04<00:00, 20.55it/s]\n"
     ]
    },
    {
     "name": "stdout",
     "output_type": "stream",
     "text": [
      "Epoch [75/100] -> Train Loss: 0.0730, Train Acc: 97.46% | Val Loss: 0.6431, Val Acc: 84.64%\n"
     ]
    },
    {
     "name": "stderr",
     "output_type": "stream",
     "text": [
      "Epoch [76/100] Training: 100%|██████████| 594/594 [00:18<00:00, 31.68it/s, loss=0.0954] \n",
      "Epoch [76/100] Validation: 100%|██████████| 86/86 [00:04<00:00, 20.29it/s]\n"
     ]
    },
    {
     "name": "stdout",
     "output_type": "stream",
     "text": [
      "Epoch [76/100] -> Train Loss: 0.0724, Train Acc: 97.70% | Val Loss: 0.6383, Val Acc: 84.27%\n"
     ]
    },
    {
     "name": "stderr",
     "output_type": "stream",
     "text": [
      "Epoch [77/100] Training: 100%|██████████| 594/594 [00:18<00:00, 31.28it/s, loss=0.033]  \n",
      "Epoch [77/100] Validation: 100%|██████████| 86/86 [00:04<00:00, 19.19it/s]\n"
     ]
    },
    {
     "name": "stdout",
     "output_type": "stream",
     "text": [
      "Epoch [77/100] -> Train Loss: 0.0740, Train Acc: 97.46% | Val Loss: 0.6323, Val Acc: 84.42%\n"
     ]
    },
    {
     "name": "stderr",
     "output_type": "stream",
     "text": [
      "Epoch [78/100] Training: 100%|██████████| 594/594 [00:19<00:00, 31.18it/s, loss=0.0137]  \n",
      "Epoch [78/100] Validation: 100%|██████████| 86/86 [00:04<00:00, 19.29it/s]\n"
     ]
    },
    {
     "name": "stdout",
     "output_type": "stream",
     "text": [
      "Epoch [78/100] -> Train Loss: 0.0756, Train Acc: 97.43% | Val Loss: 0.6376, Val Acc: 84.53%\n"
     ]
    },
    {
     "name": "stderr",
     "output_type": "stream",
     "text": [
      "Epoch [79/100] Training: 100%|██████████| 594/594 [00:18<00:00, 31.33it/s, loss=0.019]   \n",
      "Epoch [79/100] Validation: 100%|██████████| 86/86 [00:04<00:00, 19.25it/s]\n"
     ]
    },
    {
     "name": "stdout",
     "output_type": "stream",
     "text": [
      "Epoch [79/100] -> Train Loss: 0.0785, Train Acc: 97.46% | Val Loss: 0.6358, Val Acc: 84.12%\n"
     ]
    },
    {
     "name": "stderr",
     "output_type": "stream",
     "text": [
      "Epoch [80/100] Training: 100%|██████████| 594/594 [00:19<00:00, 31.26it/s, loss=0.0131] \n",
      "Epoch [80/100] Validation: 100%|██████████| 86/86 [00:04<00:00, 19.36it/s]\n"
     ]
    },
    {
     "name": "stdout",
     "output_type": "stream",
     "text": [
      "Epoch [80/100] -> Train Loss: 0.0678, Train Acc: 97.77% | Val Loss: 0.6365, Val Acc: 84.64%\n"
     ]
    },
    {
     "name": "stderr",
     "output_type": "stream",
     "text": [
      "Epoch [81/100] Training: 100%|██████████| 594/594 [00:19<00:00, 31.18it/s, loss=0.101]  \n",
      "Epoch [81/100] Validation: 100%|██████████| 86/86 [00:04<00:00, 19.26it/s]\n"
     ]
    },
    {
     "name": "stdout",
     "output_type": "stream",
     "text": [
      "Epoch [81/100] -> Train Loss: 0.0821, Train Acc: 97.26% | Val Loss: 0.6515, Val Acc: 84.38%\n"
     ]
    },
    {
     "name": "stderr",
     "output_type": "stream",
     "text": [
      "Epoch [82/100] Training: 100%|██████████| 594/594 [00:18<00:00, 31.65it/s, loss=0.096]  \n",
      "Epoch [82/100] Validation: 100%|██████████| 86/86 [00:04<00:00, 20.30it/s]\n"
     ]
    },
    {
     "name": "stdout",
     "output_type": "stream",
     "text": [
      "Epoch [82/100] -> Train Loss: 0.0794, Train Acc: 97.33% | Val Loss: 0.6454, Val Acc: 84.20%\n"
     ]
    },
    {
     "name": "stderr",
     "output_type": "stream",
     "text": [
      "Epoch [83/100] Training: 100%|██████████| 594/594 [00:18<00:00, 31.65it/s, loss=0.0116] \n",
      "Epoch [83/100] Validation: 100%|██████████| 86/86 [00:04<00:00, 19.64it/s]\n"
     ]
    },
    {
     "name": "stdout",
     "output_type": "stream",
     "text": [
      "Epoch [83/100] -> Train Loss: 0.0786, Train Acc: 97.47% | Val Loss: 0.6411, Val Acc: 84.34%\n"
     ]
    },
    {
     "name": "stderr",
     "output_type": "stream",
     "text": [
      "Epoch [84/100] Training: 100%|██████████| 594/594 [00:18<00:00, 31.48it/s, loss=0.0466] \n",
      "Epoch [84/100] Validation: 100%|██████████| 86/86 [00:04<00:00, 19.30it/s]\n"
     ]
    },
    {
     "name": "stdout",
     "output_type": "stream",
     "text": [
      "Epoch [84/100] -> Train Loss: 0.0758, Train Acc: 97.47% | Val Loss: 0.6314, Val Acc: 84.16%\n"
     ]
    },
    {
     "name": "stderr",
     "output_type": "stream",
     "text": [
      "Epoch [85/100] Training: 100%|██████████| 594/594 [00:18<00:00, 31.50it/s, loss=0.0166] \n",
      "Epoch [85/100] Validation: 100%|██████████| 86/86 [00:04<00:00, 20.06it/s]\n"
     ]
    },
    {
     "name": "stdout",
     "output_type": "stream",
     "text": [
      "Epoch [85/100] -> Train Loss: 0.0765, Train Acc: 97.64% | Val Loss: 0.6382, Val Acc: 84.23%\n"
     ]
    },
    {
     "name": "stderr",
     "output_type": "stream",
     "text": [
      "Epoch [86/100] Training: 100%|██████████| 594/594 [00:19<00:00, 31.09it/s, loss=0.106]  \n",
      "Epoch [86/100] Validation: 100%|██████████| 86/86 [00:04<00:00, 19.34it/s]\n"
     ]
    },
    {
     "name": "stdout",
     "output_type": "stream",
     "text": [
      "Epoch [86/100] -> Train Loss: 0.0726, Train Acc: 97.64% | Val Loss: 0.6539, Val Acc: 84.93%\n"
     ]
    },
    {
     "name": "stderr",
     "output_type": "stream",
     "text": [
      "Epoch [87/100] Training: 100%|██████████| 594/594 [00:19<00:00, 31.09it/s, loss=0.0451] \n",
      "Epoch [87/100] Validation: 100%|██████████| 86/86 [00:04<00:00, 20.13it/s]\n"
     ]
    },
    {
     "name": "stdout",
     "output_type": "stream",
     "text": [
      "Epoch [87/100] -> Train Loss: 0.0754, Train Acc: 97.66% | Val Loss: 0.6408, Val Acc: 84.05%\n"
     ]
    },
    {
     "name": "stderr",
     "output_type": "stream",
     "text": [
      "Epoch [88/100] Training: 100%|██████████| 594/594 [00:19<00:00, 31.06it/s, loss=0.0908] \n",
      "Epoch [88/100] Validation: 100%|██████████| 86/86 [00:04<00:00, 19.54it/s]\n"
     ]
    },
    {
     "name": "stdout",
     "output_type": "stream",
     "text": [
      "Epoch [88/100] -> Train Loss: 0.0753, Train Acc: 97.56% | Val Loss: 0.6407, Val Acc: 84.53%\n"
     ]
    },
    {
     "name": "stderr",
     "output_type": "stream",
     "text": [
      "Epoch [89/100] Training: 100%|██████████| 594/594 [00:19<00:00, 31.09it/s, loss=0.00662]\n",
      "Epoch [89/100] Validation: 100%|██████████| 86/86 [00:04<00:00, 19.43it/s]\n"
     ]
    },
    {
     "name": "stdout",
     "output_type": "stream",
     "text": [
      "Epoch [89/100] -> Train Loss: 0.0757, Train Acc: 97.60% | Val Loss: 0.6430, Val Acc: 84.60%\n"
     ]
    },
    {
     "name": "stderr",
     "output_type": "stream",
     "text": [
      "Epoch [90/100] Training: 100%|██████████| 594/594 [00:19<00:00, 31.07it/s, loss=0.0201] \n",
      "Epoch [90/100] Validation: 100%|██████████| 86/86 [00:04<00:00, 19.70it/s]\n"
     ]
    },
    {
     "name": "stdout",
     "output_type": "stream",
     "text": [
      "Epoch [90/100] -> Train Loss: 0.0761, Train Acc: 97.47% | Val Loss: 0.6294, Val Acc: 84.31%\n"
     ]
    },
    {
     "name": "stderr",
     "output_type": "stream",
     "text": [
      "Epoch [91/100] Training: 100%|██████████| 594/594 [00:18<00:00, 31.47it/s, loss=0.0132] \n",
      "Epoch [91/100] Validation: 100%|██████████| 86/86 [00:04<00:00, 19.38it/s]\n"
     ]
    },
    {
     "name": "stdout",
     "output_type": "stream",
     "text": [
      "Epoch [91/100] -> Train Loss: 0.0707, Train Acc: 97.73% | Val Loss: 0.6486, Val Acc: 84.45%\n"
     ]
    },
    {
     "name": "stderr",
     "output_type": "stream",
     "text": [
      "Epoch [92/100] Training: 100%|██████████| 594/594 [00:18<00:00, 31.62it/s, loss=0.00307]\n",
      "Epoch [92/100] Validation: 100%|██████████| 86/86 [00:04<00:00, 19.59it/s]\n"
     ]
    },
    {
     "name": "stdout",
     "output_type": "stream",
     "text": [
      "Epoch [92/100] -> Train Loss: 0.0717, Train Acc: 97.63% | Val Loss: 0.6413, Val Acc: 84.42%\n"
     ]
    },
    {
     "name": "stderr",
     "output_type": "stream",
     "text": [
      "Epoch [93/100] Training: 100%|██████████| 594/594 [00:19<00:00, 31.10it/s, loss=0.1]    \n",
      "Epoch [93/100] Validation: 100%|██████████| 86/86 [00:04<00:00, 19.27it/s]\n"
     ]
    },
    {
     "name": "stdout",
     "output_type": "stream",
     "text": [
      "Epoch [93/100] -> Train Loss: 0.0740, Train Acc: 97.36% | Val Loss: 0.6343, Val Acc: 84.86%\n"
     ]
    },
    {
     "name": "stderr",
     "output_type": "stream",
     "text": [
      "Epoch [94/100] Training: 100%|██████████| 594/594 [00:18<00:00, 31.55it/s, loss=0.119]  \n",
      "Epoch [94/100] Validation: 100%|██████████| 86/86 [00:04<00:00, 19.23it/s]\n"
     ]
    },
    {
     "name": "stdout",
     "output_type": "stream",
     "text": [
      "Epoch [94/100] -> Train Loss: 0.0726, Train Acc: 97.66% | Val Loss: 0.6426, Val Acc: 84.27%\n"
     ]
    },
    {
     "name": "stderr",
     "output_type": "stream",
     "text": [
      "Epoch [95/100] Training: 100%|██████████| 594/594 [00:19<00:00, 31.22it/s, loss=0.104]  \n",
      "Epoch [95/100] Validation: 100%|██████████| 86/86 [00:04<00:00, 20.25it/s]\n"
     ]
    },
    {
     "name": "stdout",
     "output_type": "stream",
     "text": [
      "Epoch [95/100] -> Train Loss: 0.0728, Train Acc: 97.63% | Val Loss: 0.6340, Val Acc: 84.45%\n"
     ]
    },
    {
     "name": "stderr",
     "output_type": "stream",
     "text": [
      "Epoch [96/100] Training: 100%|██████████| 594/594 [00:19<00:00, 31.19it/s, loss=0.199]  \n",
      "Epoch [96/100] Validation: 100%|██████████| 86/86 [00:04<00:00, 19.61it/s]\n"
     ]
    },
    {
     "name": "stdout",
     "output_type": "stream",
     "text": [
      "Epoch [96/100] -> Train Loss: 0.0754, Train Acc: 97.37% | Val Loss: 0.6295, Val Acc: 84.31%\n"
     ]
    },
    {
     "name": "stderr",
     "output_type": "stream",
     "text": [
      "Epoch [97/100] Training: 100%|██████████| 594/594 [00:19<00:00, 31.23it/s, loss=0.0236] \n",
      "Epoch [97/100] Validation: 100%|██████████| 86/86 [00:04<00:00, 19.60it/s]\n"
     ]
    },
    {
     "name": "stdout",
     "output_type": "stream",
     "text": [
      "Epoch [97/100] -> Train Loss: 0.0709, Train Acc: 97.59% | Val Loss: 0.6534, Val Acc: 84.49%\n"
     ]
    },
    {
     "name": "stderr",
     "output_type": "stream",
     "text": [
      "Epoch [98/100] Training: 100%|██████████| 594/594 [00:18<00:00, 31.27it/s, loss=0.00239]\n",
      "Epoch [98/100] Validation: 100%|██████████| 86/86 [00:04<00:00, 19.62it/s]\n"
     ]
    },
    {
     "name": "stdout",
     "output_type": "stream",
     "text": [
      "Epoch [98/100] -> Train Loss: 0.0686, Train Acc: 97.87% | Val Loss: 0.6447, Val Acc: 84.53%\n"
     ]
    },
    {
     "name": "stderr",
     "output_type": "stream",
     "text": [
      "Epoch [99/100] Training: 100%|██████████| 594/594 [00:19<00:00, 31.22it/s, loss=0.00472]\n",
      "Epoch [99/100] Validation: 100%|██████████| 86/86 [00:04<00:00, 20.53it/s]\n"
     ]
    },
    {
     "name": "stdout",
     "output_type": "stream",
     "text": [
      "Epoch [99/100] -> Train Loss: 0.0739, Train Acc: 97.64% | Val Loss: 0.6489, Val Acc: 84.64%\n"
     ]
    },
    {
     "name": "stderr",
     "output_type": "stream",
     "text": [
      "Epoch [100/100] Training: 100%|██████████| 594/594 [00:18<00:00, 31.35it/s, loss=0.0146]  \n",
      "Epoch [100/100] Validation: 100%|██████████| 86/86 [00:04<00:00, 20.33it/s]"
     ]
    },
    {
     "name": "stdout",
     "output_type": "stream",
     "text": [
      "Epoch [100/100] -> Train Loss: 0.0769, Train Acc: 97.26% | Val Loss: 0.6422, Val Acc: 84.42%\n",
      "\n",
      "Training complete.\n"
     ]
    },
    {
     "name": "stderr",
     "output_type": "stream",
     "text": [
      "\n"
     ]
    }
   ],
   "source": [
    "from torch.optim import AdamW\n",
    "\n",
    "# Define loss function, optimizer, dan learning rate scheduler\n",
    "criterion = nn.CrossEntropyLoss().to(device)\n",
    "optimizer = AdamW(model.parameters(), lr=1e-3, weight_decay=1e-4)\n",
    "scheduler = ReduceLROnPlateau(optimizer, mode='min', factor=0.1, patience=5)\n",
    "num_epochs = 100\n",
    "best_val_loss = float('inf')\n",
    "save_path = \"best_model_mobilevitv2_fine-tuning2.pth\"\n",
    "\n",
    "print(\"\\nStarting model training...\")\n",
    "for epoch in range(num_epochs):\n",
    "    # Training\n",
    "    model.train()\n",
    "    epoch_train_loss = 0\n",
    "    train_preds, train_targets = [], []\n",
    "    train_progress_bar = tqdm(train_loader, desc=f\"Epoch [{epoch+1}/{num_epochs}] Training\")\n",
    "    for inputs, targets in train_progress_bar:\n",
    "        inputs, targets = inputs.to(device), targets.to(device)\n",
    "        optimizer.zero_grad()\n",
    "        outputs = model(inputs)\n",
    "        loss = criterion(outputs, targets)\n",
    "        loss.backward()\n",
    "        optimizer.step()\n",
    "\n",
    "        epoch_train_loss += loss.item()\n",
    "        _, predicted = torch.max(outputs.data, 1)\n",
    "        train_preds.extend(predicted.cpu().numpy())\n",
    "        train_targets.extend(targets.cpu().numpy())\n",
    "        train_progress_bar.set_postfix(loss=loss.item())\n",
    "\n",
    "    avg_train_loss = epoch_train_loss / len(train_loader)\n",
    "    train_accuracy = accuracy_score(train_targets, train_preds) * 100\n",
    "\n",
    "    # Validation\n",
    "    model.eval()\n",
    "    epoch_val_loss = 0\n",
    "    val_preds, val_targets = [], []\n",
    "    with torch.no_grad():\n",
    "        val_progress_bar = tqdm(val_loader, desc=f\"Epoch [{epoch+1}/{num_epochs}] Validation\")\n",
    "        for inputs, targets in val_progress_bar:\n",
    "            inputs, targets = inputs.to(device), targets.to(device)\n",
    "            outputs = model(inputs)\n",
    "            loss = criterion(outputs, targets)\n",
    "            epoch_val_loss += loss.item()\n",
    "            _, predicted = torch.max(outputs.data, 1)\n",
    "            val_preds.extend(predicted.cpu().numpy())\n",
    "            val_targets.extend(targets.cpu().numpy())\n",
    "\n",
    "    avg_val_loss = epoch_val_loss / len(val_loader)\n",
    "    val_accuracy = accuracy_score(val_targets, val_preds) * 100\n",
    "\n",
    "    print(f\"Epoch [{epoch+1}/{num_epochs}] -> Train Loss: {avg_train_loss:.4f}, Train Acc: {train_accuracy:.2f}% | Val Loss: {avg_val_loss:.4f}, Val Acc: {val_accuracy:.2f}%\")\n",
    "    \n",
    "    scheduler.step(avg_val_loss)\n",
    "    \n",
    "    if avg_val_loss < best_val_loss:\n",
    "        best_val_loss = avg_val_loss\n",
    "        torch.save(model.state_dict(), save_path)\n",
    "        print(f\"✅ New best model saved at epoch {epoch+1} with Val Loss: {best_val_loss:.4f}\")\n",
    "\n",
    "print(\"\\nTraining complete.\")\n"
   ]
  },
  {
   "cell_type": "markdown",
   "metadata": {},
   "source": [
    "Testing"
   ]
  },
  {
   "cell_type": "code",
   "execution_count": null,
   "metadata": {},
   "outputs": [
    {
     "name": "stdout",
     "output_type": "stream",
     "text": [
      "\n",
      "Loading best model for final evaluation...\n",
      "Model loaded. Starting testing...\n"
     ]
    },
    {
     "name": "stderr",
     "output_type": "stream",
     "text": [
      "Testing: 100%|██████████| 43/43 [00:02<00:00, 20.36it/s]\n"
     ]
    }
   ],
   "source": [
    "print(\"\\nLoading best model for final evaluation...\")\n",
    "\n",
    "# Load model terbaik\n",
    "eval_model = timm.create_model('mobilevitv2_100.cvnets_in1k', num_classes=6)\n",
    "if torch.cuda.device_count() > 1:\n",
    "    eval_model = nn.DataParallel(eval_model)\n",
    "eval_model.load_state_dict(torch.load(save_path))\n",
    "eval_model.to(device)\n",
    "eval_model.eval()\n",
    "print(\"Model loaded. Starting testing...\")\n",
    "\n",
    "test_preds, test_targets = [], []\n",
    "with torch.no_grad():\n",
    "    for inputs, targets in tqdm(test_loader, desc=\"Testing\"):\n",
    "        inputs, targets = inputs.to(device), targets.to(device)\n",
    "        outputs = eval_model(inputs)\n",
    "        _, preds = torch.max(outputs, 1)\n",
    "        test_preds.extend(preds.cpu().numpy())\n",
    "        test_targets.extend(targets.cpu().numpy())"
   ]
  },
  {
   "cell_type": "markdown",
   "metadata": {},
   "source": [
    "Classification Report"
   ]
  },
  {
   "cell_type": "code",
   "execution_count": null,
   "metadata": {},
   "outputs": [
    {
     "name": "stdout",
     "output_type": "stream",
     "text": [
      "\n",
      "=================================================\n",
      "      Fine-Tuning Results for mobilevitv2_100\n",
      "=================================================\n",
      "\n",
      "Final Test Accuracy: 82.57%\n",
      "\n",
      "Confusion Matrix:\n",
      "[[548  12  34   0   0   8]\n",
      " [ 20  18  23   0   0   0]\n",
      " [ 40  29 365   7  12   7]\n",
      " [  0   1  14  10   3   0]\n",
      " [  3   0  10   2  67   3]\n",
      " [  1   0   4   0   3 110]]\n",
      "\n",
      "Classification Report:\n",
      "              precision    recall  f1-score   support\n",
      "\n",
      "     class_0       0.90      0.91      0.90       602\n",
      "     class_1       0.30      0.30      0.30        61\n",
      "     class_2       0.81      0.79      0.80       460\n",
      "     class_3       0.53      0.36      0.43        28\n",
      "     class_4       0.79      0.79      0.79        85\n",
      "     class_5       0.86      0.93      0.89       118\n",
      "\n",
      "    accuracy                           0.83      1354\n",
      "   macro avg       0.70      0.68      0.69      1354\n",
      "weighted avg       0.82      0.83      0.82      1354\n",
      "\n",
      "\n",
      "✅ Final report saved to 'fine_tuning_report.txt'\n",
      "✅ Best model weights saved to 'best_model_mobilevitv2_fine-tuning2.pth'\n"
     ]
    }
   ],
   "source": [
    "accuracy = accuracy_score(test_targets, test_preds)\n",
    "conf_matrix = confusion_matrix(test_targets, test_preds)\n",
    "report = classification_report(test_targets, test_preds, target_names=test_dataset.classes, zero_division=0)\n",
    "\n",
    "results_text = f\"\"\"\n",
    "=================================================\n",
    "      Fine-Tuning Results for mobilevitv2_100\n",
    "=================================================\n",
    "\n",
    "Final Test Accuracy: {accuracy * 100:.2f}%\n",
    "\n",
    "Confusion Matrix:\n",
    "{conf_matrix}\n",
    "\n",
    "Classification Report:\n",
    "{report}\n",
    "\"\"\"\n",
    "\n",
    "print(results_text)\n",
    "\n",
    "# Save results to a file\n",
    "with open(\"fine_tuning2_report.txt\", \"w\") as f:\n",
    "    f.write(results_text)\n",
    "\n",
    "print(f\"✅ Final report saved to 'fine_tuning_report.txt'\")\n",
    "print(f\"✅ Best model weights saved to '{save_path}'\")"
   ]
  },
  {
   "cell_type": "code",
   "execution_count": null,
   "metadata": {},
   "outputs": [],
   "source": []
  }
 ],
 "metadata": {
  "kernelspec": {
   "display_name": "rfdetr",
   "language": "python",
   "name": "python3"
  },
  "language_info": {
   "codemirror_mode": {
    "name": "ipython",
    "version": 3
   },
   "file_extension": ".py",
   "mimetype": "text/x-python",
   "name": "python",
   "nbconvert_exporter": "python",
   "pygments_lexer": "ipython3",
   "version": "3.10.16"
  }
 },
 "nbformat": 4,
 "nbformat_minor": 2
}
