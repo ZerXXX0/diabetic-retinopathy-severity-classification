{
 "cells": [
  {
   "cell_type": "code",
   "execution_count": 1,
   "metadata": {},
   "outputs": [],
   "source": [
    "import torch\n",
    "import timm\n",
    "import os\n",
    "from PIL import Image\n",
    "from roboflow import Roboflow\n",
    "from torchvision import transforms\n",
    "from torch.utils.data import DataLoader, Dataset\n",
    "from sklearn.metrics import accuracy_score, precision_score, recall_score, confusion_matrix, classification_report\n",
    "from tqdm import tqdm\n",
    "import torch.nn as nn\n",
    "import torch.optim as optim\n",
    "from torchvision.datasets import ImageFolder"
   ]
  },
  {
   "cell_type": "code",
   "execution_count": 2,
   "metadata": {},
   "outputs": [
    {
     "name": "stdout",
     "output_type": "stream",
     "text": [
      "loading Roboflow workspace...\n",
      "loading Roboflow project...\n"
     ]
    }
   ],
   "source": [
    "rf = Roboflow(api_key=\"DV3LuuCyQmUxhaklG7P0\")\n",
    "project = rf.workspace(\"ciptooo\").project(\"ddr-rg3uk\")\n",
    "version = project.version(1)\n",
    "dataset = version.download(\"folder\")"
   ]
  },
  {
   "cell_type": "code",
   "execution_count": 3,
   "metadata": {},
   "outputs": [],
   "source": [
    "train_dir = os.path.join(dataset.location, \"train\")\n",
    "test_dir = os.path.join(dataset.location, \"test\")\n",
    "val_dir = os.path.join(dataset.location, \"valid\")"
   ]
  },
  {
   "cell_type": "code",
   "execution_count": 4,
   "metadata": {},
   "outputs": [],
   "source": [
    "# Menambahkan drop_rate=0.2 (20% dropout) untuk regularisasi\n",
    "model = timm.create_model(\n",
    "    'mobilevitv2_100.cvnets_in1k',\n",
    "    pretrained=True,\n",
    "    num_classes=6,\n",
    "    drop_rate=0.2  # <-- PERUBAHAN 1: MENAMBAHKAN DROPOUT\n",
    ")"
   ]
  },
  {
   "cell_type": "code",
   "execution_count": 5,
   "metadata": {},
   "outputs": [
    {
     "name": "stdout",
     "output_type": "stream",
     "text": [
      "Model moved to cuda.\n"
     ]
    }
   ],
   "source": [
    "device = torch.device(\"cuda\" if torch.cuda.is_available() else \"cpu\")\n",
    "model.to(device)\n",
    "print(f\"Model moved to {device}.\")"
   ]
  },
  {
   "cell_type": "code",
   "execution_count": 6,
   "metadata": {},
   "outputs": [],
   "source": [
    "# Menambahkan Data Augmentation untuk data training\n",
    "train_transform = transforms.Compose([\n",
    "    transforms.Resize((224, 224)),\n",
    "    transforms.RandomHorizontalFlip(p=0.5), # <-- PERUBAHAN 2: DATA AUGMENTATION\n",
    "    transforms.RandomRotation(15),         # <-- PERUBAHAN 3: DATA AUGMENTATION\n",
    "    transforms.ToTensor(),\n",
    "    transforms.Normalize(mean=[0.485, 0.456, 0.406], std=[0.229, 0.224, 0.225])\n",
    "])\n",
    "\n",
    "# Transformasi untuk validasi dan tes tidak perlu augmentasi\n",
    "val_test_transform = transforms.Compose([\n",
    "    transforms.Resize((224, 224)),\n",
    "    transforms.ToTensor(),\n",
    "    transforms.Normalize(mean=[0.485, 0.456, 0.406], std=[0.229, 0.224, 0.225])\n",
    "])"
   ]
  },
  {
   "cell_type": "code",
   "execution_count": 7,
   "metadata": {},
   "outputs": [],
   "source": [
    "# Gunakan train_transform untuk data training\n",
    "train_dataset = ImageFolder(root=train_dir, transform=train_transform)\n",
    "\n",
    "# Gunakan val_test_transform untuk validasi dan tes\n",
    "val_dataset = ImageFolder(root=val_dir, transform=val_test_transform)\n",
    "test_dataset = ImageFolder(root=test_dir, transform=val_test_transform)\n",
    "\n",
    "\n",
    "train_loader = DataLoader(train_dataset, batch_size=16, shuffle=True, num_workers=2) # Batch size 16 adalah awal yang baik\n",
    "val_loader = DataLoader(val_dataset, batch_size=32, shuffle=False, num_workers=2)\n",
    "test_loader = DataLoader(test_dataset, batch_size=32, shuffle=False, num_workers=2)"
   ]
  },
  {
   "cell_type": "code",
   "execution_count": 8,
   "metadata": {},
   "outputs": [
    {
     "name": "stdout",
     "output_type": "stream",
     "text": [
      "\n",
      "Starting model training...\n"
     ]
    },
    {
     "name": "stderr",
     "output_type": "stream",
     "text": [
      "Epoch [1/100] Training: 100%|██████████| 594/594 [00:20<00:00, 29.46it/s, loss=0.677]\n",
      "Epoch [1/100] Validation: 100%|██████████| 86/86 [00:04<00:00, 18.81it/s]\n"
     ]
    },
    {
     "name": "stdout",
     "output_type": "stream",
     "text": [
      "Epoch [1/100] -> Train Loss: 0.8159, Train Acc: 71.15% | Val Loss: 0.7006, Val Acc: 76.66%\n",
      "✅ New best model saved at epoch 1 with Val Loss: 0.7006\n"
     ]
    },
    {
     "name": "stderr",
     "output_type": "stream",
     "text": [
      "Epoch [2/100] Training: 100%|██████████| 594/594 [00:19<00:00, 30.37it/s, loss=0.536]\n",
      "Epoch [2/100] Validation: 100%|██████████| 86/86 [00:04<00:00, 20.60it/s]\n"
     ]
    },
    {
     "name": "stdout",
     "output_type": "stream",
     "text": [
      "Epoch [2/100] -> Train Loss: 0.6451, Train Acc: 77.09% | Val Loss: 0.6116, Val Acc: 78.76%\n",
      "✅ New best model saved at epoch 2 with Val Loss: 0.6116\n"
     ]
    },
    {
     "name": "stderr",
     "output_type": "stream",
     "text": [
      "Epoch [3/100] Training: 100%|██████████| 594/594 [00:19<00:00, 30.25it/s, loss=1.66] \n",
      "Epoch [3/100] Validation: 100%|██████████| 86/86 [00:04<00:00, 20.29it/s]\n"
     ]
    },
    {
     "name": "stdout",
     "output_type": "stream",
     "text": [
      "Epoch [3/100] -> Train Loss: 0.6058, Train Acc: 78.76% | Val Loss: 0.6142, Val Acc: 78.21%\n"
     ]
    },
    {
     "name": "stderr",
     "output_type": "stream",
     "text": [
      "Epoch [4/100] Training: 100%|██████████| 594/594 [00:19<00:00, 30.38it/s, loss=1.26] \n",
      "Epoch [4/100] Validation: 100%|██████████| 86/86 [00:04<00:00, 21.03it/s]\n"
     ]
    },
    {
     "name": "stdout",
     "output_type": "stream",
     "text": [
      "Epoch [4/100] -> Train Loss: 0.5719, Train Acc: 79.99% | Val Loss: 0.5975, Val Acc: 80.01%\n",
      "✅ New best model saved at epoch 4 with Val Loss: 0.5975\n"
     ]
    },
    {
     "name": "stderr",
     "output_type": "stream",
     "text": [
      "Epoch [5/100] Training: 100%|██████████| 594/594 [00:19<00:00, 30.11it/s, loss=0.875]\n",
      "Epoch [5/100] Validation: 100%|██████████| 86/86 [00:04<00:00, 20.57it/s]\n"
     ]
    },
    {
     "name": "stdout",
     "output_type": "stream",
     "text": [
      "Epoch [5/100] -> Train Loss: 0.5304, Train Acc: 81.10% | Val Loss: 0.6614, Val Acc: 75.05%\n"
     ]
    },
    {
     "name": "stderr",
     "output_type": "stream",
     "text": [
      "Epoch [6/100] Training: 100%|██████████| 594/594 [00:19<00:00, 30.21it/s, loss=0.389]\n",
      "Epoch [6/100] Validation: 100%|██████████| 86/86 [00:03<00:00, 21.61it/s]\n"
     ]
    },
    {
     "name": "stdout",
     "output_type": "stream",
     "text": [
      "Epoch [6/100] -> Train Loss: 0.5151, Train Acc: 81.67% | Val Loss: 0.5802, Val Acc: 79.82%\n",
      "✅ New best model saved at epoch 6 with Val Loss: 0.5802\n"
     ]
    },
    {
     "name": "stderr",
     "output_type": "stream",
     "text": [
      "Epoch [7/100] Training: 100%|██████████| 594/594 [00:19<00:00, 30.28it/s, loss=0.295] \n",
      "Epoch [7/100] Validation: 100%|██████████| 86/86 [00:04<00:00, 21.41it/s]\n"
     ]
    },
    {
     "name": "stdout",
     "output_type": "stream",
     "text": [
      "Epoch [7/100] -> Train Loss: 0.4830, Train Acc: 83.01% | Val Loss: 0.5288, Val Acc: 82.10%\n",
      "✅ New best model saved at epoch 7 with Val Loss: 0.5288\n"
     ]
    },
    {
     "name": "stderr",
     "output_type": "stream",
     "text": [
      "Epoch [8/100] Training: 100%|██████████| 594/594 [00:19<00:00, 30.23it/s, loss=0.424] \n",
      "Epoch [8/100] Validation: 100%|██████████| 86/86 [00:04<00:00, 21.48it/s]\n"
     ]
    },
    {
     "name": "stdout",
     "output_type": "stream",
     "text": [
      "Epoch [8/100] -> Train Loss: 0.4658, Train Acc: 83.71% | Val Loss: 0.6135, Val Acc: 78.32%\n"
     ]
    },
    {
     "name": "stderr",
     "output_type": "stream",
     "text": [
      "Epoch [9/100] Training: 100%|██████████| 594/594 [00:19<00:00, 30.35it/s, loss=0.424] \n",
      "Epoch [9/100] Validation: 100%|██████████| 86/86 [00:04<00:00, 21.27it/s]\n"
     ]
    },
    {
     "name": "stdout",
     "output_type": "stream",
     "text": [
      "Epoch [9/100] -> Train Loss: 0.4483, Train Acc: 83.73% | Val Loss: 0.5801, Val Acc: 81.77%\n"
     ]
    },
    {
     "name": "stderr",
     "output_type": "stream",
     "text": [
      "Epoch [10/100] Training: 100%|██████████| 594/594 [00:19<00:00, 30.32it/s, loss=0.392] \n",
      "Epoch [10/100] Validation: 100%|██████████| 86/86 [00:03<00:00, 21.61it/s]\n"
     ]
    },
    {
     "name": "stdout",
     "output_type": "stream",
     "text": [
      "Epoch [10/100] -> Train Loss: 0.4258, Train Acc: 84.62% | Val Loss: 0.5732, Val Acc: 81.15%\n"
     ]
    },
    {
     "name": "stderr",
     "output_type": "stream",
     "text": [
      "Epoch [11/100] Training: 100%|██████████| 594/594 [00:19<00:00, 30.26it/s, loss=0.312] \n",
      "Epoch [11/100] Validation: 100%|██████████| 86/86 [00:04<00:00, 20.04it/s]\n"
     ]
    },
    {
     "name": "stdout",
     "output_type": "stream",
     "text": [
      "Epoch [11/100] -> Train Loss: 0.3999, Train Acc: 85.45% | Val Loss: 0.5196, Val Acc: 82.69%\n",
      "✅ New best model saved at epoch 11 with Val Loss: 0.5196\n"
     ]
    },
    {
     "name": "stderr",
     "output_type": "stream",
     "text": [
      "Epoch [12/100] Training: 100%|██████████| 594/594 [00:19<00:00, 30.42it/s, loss=0.343] \n",
      "Epoch [12/100] Validation: 100%|██████████| 86/86 [00:04<00:00, 21.35it/s]\n"
     ]
    },
    {
     "name": "stdout",
     "output_type": "stream",
     "text": [
      "Epoch [12/100] -> Train Loss: 0.3817, Train Acc: 85.88% | Val Loss: 0.5045, Val Acc: 82.07%\n",
      "✅ New best model saved at epoch 12 with Val Loss: 0.5045\n"
     ]
    },
    {
     "name": "stderr",
     "output_type": "stream",
     "text": [
      "Epoch [13/100] Training: 100%|██████████| 594/594 [00:19<00:00, 30.56it/s, loss=0.585] \n",
      "Epoch [13/100] Validation: 100%|██████████| 86/86 [00:04<00:00, 20.24it/s]\n"
     ]
    },
    {
     "name": "stdout",
     "output_type": "stream",
     "text": [
      "Epoch [13/100] -> Train Loss: 0.3675, Train Acc: 86.25% | Val Loss: 0.5506, Val Acc: 81.73%\n"
     ]
    },
    {
     "name": "stderr",
     "output_type": "stream",
     "text": [
      "Epoch [14/100] Training: 100%|██████████| 594/594 [00:19<00:00, 30.32it/s, loss=0.424] \n",
      "Epoch [14/100] Validation: 100%|██████████| 86/86 [00:04<00:00, 21.34it/s]\n"
     ]
    },
    {
     "name": "stdout",
     "output_type": "stream",
     "text": [
      "Epoch [14/100] -> Train Loss: 0.3559, Train Acc: 87.51% | Val Loss: 0.5286, Val Acc: 82.62%\n"
     ]
    },
    {
     "name": "stderr",
     "output_type": "stream",
     "text": [
      "Epoch [15/100] Training: 100%|██████████| 594/594 [00:19<00:00, 30.26it/s, loss=0.144] \n",
      "Epoch [15/100] Validation: 100%|██████████| 86/86 [00:03<00:00, 22.37it/s]\n"
     ]
    },
    {
     "name": "stdout",
     "output_type": "stream",
     "text": [
      "Epoch [15/100] -> Train Loss: 0.3260, Train Acc: 87.82% | Val Loss: 0.5608, Val Acc: 81.73%\n"
     ]
    },
    {
     "name": "stderr",
     "output_type": "stream",
     "text": [
      "Epoch [16/100] Training: 100%|██████████| 594/594 [00:19<00:00, 30.31it/s, loss=0.484] \n",
      "Epoch [16/100] Validation: 100%|██████████| 86/86 [00:03<00:00, 21.82it/s]\n"
     ]
    },
    {
     "name": "stdout",
     "output_type": "stream",
     "text": [
      "Epoch [16/100] -> Train Loss: 0.3211, Train Acc: 88.69% | Val Loss: 0.6734, Val Acc: 81.33%\n"
     ]
    },
    {
     "name": "stderr",
     "output_type": "stream",
     "text": [
      "Epoch [17/100] Training: 100%|██████████| 594/594 [00:19<00:00, 30.34it/s, loss=0.104] \n",
      "Epoch [17/100] Validation: 100%|██████████| 86/86 [00:04<00:00, 21.00it/s]\n"
     ]
    },
    {
     "name": "stdout",
     "output_type": "stream",
     "text": [
      "Epoch [17/100] -> Train Loss: 0.2959, Train Acc: 89.04% | Val Loss: 0.6687, Val Acc: 81.04%\n"
     ]
    },
    {
     "name": "stderr",
     "output_type": "stream",
     "text": [
      "Epoch [18/100] Training: 100%|██████████| 594/594 [00:19<00:00, 30.33it/s, loss=0.0628]\n",
      "Epoch [18/100] Validation: 100%|██████████| 86/86 [00:04<00:00, 20.90it/s]\n"
     ]
    },
    {
     "name": "stdout",
     "output_type": "stream",
     "text": [
      "Epoch [18/100] -> Train Loss: 0.2842, Train Acc: 89.69% | Val Loss: 0.6193, Val Acc: 82.40%\n"
     ]
    },
    {
     "name": "stderr",
     "output_type": "stream",
     "text": [
      "Epoch [19/100] Training: 100%|██████████| 594/594 [00:19<00:00, 30.26it/s, loss=0.321] \n",
      "Epoch [19/100] Validation: 100%|██████████| 86/86 [00:04<00:00, 20.62it/s]\n"
     ]
    },
    {
     "name": "stdout",
     "output_type": "stream",
     "text": [
      "Epoch [19/100] -> Train Loss: 0.2646, Train Acc: 90.38% | Val Loss: 0.5889, Val Acc: 81.33%\n"
     ]
    },
    {
     "name": "stderr",
     "output_type": "stream",
     "text": [
      "Epoch [20/100] Training: 100%|██████████| 594/594 [00:19<00:00, 30.38it/s, loss=0.0587]\n",
      "Epoch [20/100] Validation: 100%|██████████| 86/86 [00:04<00:00, 21.11it/s]\n"
     ]
    },
    {
     "name": "stdout",
     "output_type": "stream",
     "text": [
      "Epoch [20/100] -> Train Loss: 0.2531, Train Acc: 90.67% | Val Loss: 0.6481, Val Acc: 82.21%\n"
     ]
    },
    {
     "name": "stderr",
     "output_type": "stream",
     "text": [
      "Epoch [21/100] Training: 100%|██████████| 594/594 [00:19<00:00, 30.38it/s, loss=0.0412] \n",
      "Epoch [21/100] Validation: 100%|██████████| 86/86 [00:04<00:00, 20.85it/s]\n"
     ]
    },
    {
     "name": "stdout",
     "output_type": "stream",
     "text": [
      "Epoch [21/100] -> Train Loss: 0.2284, Train Acc: 91.88% | Val Loss: 0.6361, Val Acc: 81.04%\n"
     ]
    },
    {
     "name": "stderr",
     "output_type": "stream",
     "text": [
      "Epoch [22/100] Training: 100%|██████████| 594/594 [00:19<00:00, 30.40it/s, loss=0.378]  \n",
      "Epoch [22/100] Validation: 100%|██████████| 86/86 [00:03<00:00, 21.67it/s]\n"
     ]
    },
    {
     "name": "stdout",
     "output_type": "stream",
     "text": [
      "Epoch [22/100] -> Train Loss: 0.2340, Train Acc: 91.55% | Val Loss: 0.7212, Val Acc: 77.62%\n"
     ]
    },
    {
     "name": "stderr",
     "output_type": "stream",
     "text": [
      "Epoch [23/100] Training: 100%|██████████| 594/594 [00:19<00:00, 30.31it/s, loss=0.0917] \n",
      "Epoch [23/100] Validation: 100%|██████████| 86/86 [00:04<00:00, 20.76it/s]\n"
     ]
    },
    {
     "name": "stdout",
     "output_type": "stream",
     "text": [
      "Epoch [23/100] -> Train Loss: 0.2149, Train Acc: 91.90% | Val Loss: 0.6507, Val Acc: 80.60%\n"
     ]
    },
    {
     "name": "stderr",
     "output_type": "stream",
     "text": [
      "Epoch [24/100] Training: 100%|██████████| 594/594 [00:19<00:00, 30.63it/s, loss=0.526]  \n",
      "Epoch [24/100] Validation: 100%|██████████| 86/86 [00:04<00:00, 20.85it/s]\n"
     ]
    },
    {
     "name": "stdout",
     "output_type": "stream",
     "text": [
      "Epoch [24/100] -> Train Loss: 0.2054, Train Acc: 92.51% | Val Loss: 0.6330, Val Acc: 82.29%\n"
     ]
    },
    {
     "name": "stderr",
     "output_type": "stream",
     "text": [
      "Epoch [25/100] Training: 100%|██████████| 594/594 [00:19<00:00, 30.53it/s, loss=0.337] \n",
      "Epoch [25/100] Validation: 100%|██████████| 86/86 [00:03<00:00, 21.53it/s]\n"
     ]
    },
    {
     "name": "stdout",
     "output_type": "stream",
     "text": [
      "Epoch [25/100] -> Train Loss: 0.1980, Train Acc: 92.70% | Val Loss: 0.6650, Val Acc: 82.65%\n"
     ]
    },
    {
     "name": "stderr",
     "output_type": "stream",
     "text": [
      "Epoch [26/100] Training: 100%|██████████| 594/594 [00:19<00:00, 30.55it/s, loss=0.241]  \n",
      "Epoch [26/100] Validation: 100%|██████████| 86/86 [00:04<00:00, 20.78it/s]\n"
     ]
    },
    {
     "name": "stdout",
     "output_type": "stream",
     "text": [
      "Epoch [26/100] -> Train Loss: 0.1800, Train Acc: 93.43% | Val Loss: 0.6951, Val Acc: 80.63%\n"
     ]
    },
    {
     "name": "stderr",
     "output_type": "stream",
     "text": [
      "Epoch [27/100] Training: 100%|██████████| 594/594 [00:19<00:00, 30.48it/s, loss=0.0571] \n",
      "Epoch [27/100] Validation: 100%|██████████| 86/86 [00:04<00:00, 20.37it/s]\n"
     ]
    },
    {
     "name": "stdout",
     "output_type": "stream",
     "text": [
      "Epoch [27/100] -> Train Loss: 0.1763, Train Acc: 93.60% | Val Loss: 0.7095, Val Acc: 82.03%\n"
     ]
    },
    {
     "name": "stderr",
     "output_type": "stream",
     "text": [
      "Epoch [28/100] Training: 100%|██████████| 594/594 [00:19<00:00, 30.27it/s, loss=0.0353] \n",
      "Epoch [28/100] Validation: 100%|██████████| 86/86 [00:04<00:00, 21.49it/s]\n"
     ]
    },
    {
     "name": "stdout",
     "output_type": "stream",
     "text": [
      "Epoch [28/100] -> Train Loss: 0.1696, Train Acc: 93.88% | Val Loss: 0.8198, Val Acc: 81.22%\n"
     ]
    },
    {
     "name": "stderr",
     "output_type": "stream",
     "text": [
      "Epoch [29/100] Training: 100%|██████████| 594/594 [00:19<00:00, 30.47it/s, loss=0.12]   \n",
      "Epoch [29/100] Validation: 100%|██████████| 86/86 [00:04<00:00, 20.49it/s]\n"
     ]
    },
    {
     "name": "stdout",
     "output_type": "stream",
     "text": [
      "Epoch [29/100] -> Train Loss: 0.1553, Train Acc: 94.56% | Val Loss: 0.7573, Val Acc: 81.26%\n"
     ]
    },
    {
     "name": "stderr",
     "output_type": "stream",
     "text": [
      "Epoch [30/100] Training: 100%|██████████| 594/594 [00:19<00:00, 30.47it/s, loss=0.0442] \n",
      "Epoch [30/100] Validation: 100%|██████████| 86/86 [00:04<00:00, 19.98it/s]\n"
     ]
    },
    {
     "name": "stdout",
     "output_type": "stream",
     "text": [
      "Epoch [30/100] -> Train Loss: 0.1560, Train Acc: 94.38% | Val Loss: 0.7802, Val Acc: 78.61%\n"
     ]
    },
    {
     "name": "stderr",
     "output_type": "stream",
     "text": [
      "Epoch [31/100] Training: 100%|██████████| 594/594 [00:19<00:00, 30.29it/s, loss=0.218]  \n",
      "Epoch [31/100] Validation: 100%|██████████| 86/86 [00:04<00:00, 21.36it/s]\n"
     ]
    },
    {
     "name": "stdout",
     "output_type": "stream",
     "text": [
      "Epoch [31/100] -> Train Loss: 0.1519, Train Acc: 94.79% | Val Loss: 0.8100, Val Acc: 81.37%\n"
     ]
    },
    {
     "name": "stderr",
     "output_type": "stream",
     "text": [
      "Epoch [32/100] Training: 100%|██████████| 594/594 [00:19<00:00, 30.26it/s, loss=0.0678] \n",
      "Epoch [32/100] Validation: 100%|██████████| 86/86 [00:04<00:00, 21.08it/s]\n"
     ]
    },
    {
     "name": "stdout",
     "output_type": "stream",
     "text": [
      "Epoch [32/100] -> Train Loss: 0.1439, Train Acc: 94.75% | Val Loss: 0.7237, Val Acc: 82.14%\n"
     ]
    },
    {
     "name": "stderr",
     "output_type": "stream",
     "text": [
      "Epoch [33/100] Training: 100%|██████████| 594/594 [00:19<00:00, 30.43it/s, loss=0.316]  \n",
      "Epoch [33/100] Validation: 100%|██████████| 86/86 [00:04<00:00, 19.82it/s]\n"
     ]
    },
    {
     "name": "stdout",
     "output_type": "stream",
     "text": [
      "Epoch [33/100] -> Train Loss: 0.1379, Train Acc: 95.15% | Val Loss: 0.7374, Val Acc: 82.43%\n"
     ]
    },
    {
     "name": "stderr",
     "output_type": "stream",
     "text": [
      "Epoch [34/100] Training: 100%|██████████| 594/594 [00:19<00:00, 30.38it/s, loss=0.182]  \n",
      "Epoch [34/100] Validation: 100%|██████████| 86/86 [00:04<00:00, 21.10it/s]\n"
     ]
    },
    {
     "name": "stdout",
     "output_type": "stream",
     "text": [
      "Epoch [34/100] -> Train Loss: 0.1263, Train Acc: 95.68% | Val Loss: 0.9139, Val Acc: 81.55%\n"
     ]
    },
    {
     "name": "stderr",
     "output_type": "stream",
     "text": [
      "Epoch [35/100] Training: 100%|██████████| 594/594 [00:19<00:00, 30.43it/s, loss=0.0636] \n",
      "Epoch [35/100] Validation: 100%|██████████| 86/86 [00:04<00:00, 20.42it/s]\n"
     ]
    },
    {
     "name": "stdout",
     "output_type": "stream",
     "text": [
      "Epoch [35/100] -> Train Loss: 0.1254, Train Acc: 95.60% | Val Loss: 0.8118, Val Acc: 81.40%\n"
     ]
    },
    {
     "name": "stderr",
     "output_type": "stream",
     "text": [
      "Epoch [36/100] Training: 100%|██████████| 594/594 [00:19<00:00, 30.26it/s, loss=0.125]  \n",
      "Epoch [36/100] Validation: 100%|██████████| 86/86 [00:04<00:00, 21.31it/s]\n"
     ]
    },
    {
     "name": "stdout",
     "output_type": "stream",
     "text": [
      "Epoch [36/100] -> Train Loss: 0.1389, Train Acc: 94.91% | Val Loss: 0.8068, Val Acc: 80.78%\n"
     ]
    },
    {
     "name": "stderr",
     "output_type": "stream",
     "text": [
      "Epoch [37/100] Training: 100%|██████████| 594/594 [00:19<00:00, 30.28it/s, loss=0.288]  \n",
      "Epoch [37/100] Validation: 100%|██████████| 86/86 [00:04<00:00, 19.03it/s]\n"
     ]
    },
    {
     "name": "stdout",
     "output_type": "stream",
     "text": [
      "Epoch [37/100] -> Train Loss: 0.1136, Train Acc: 95.90% | Val Loss: 0.9218, Val Acc: 80.41%\n"
     ]
    },
    {
     "name": "stderr",
     "output_type": "stream",
     "text": [
      "Epoch [38/100] Training: 100%|██████████| 594/594 [00:19<00:00, 30.43it/s, loss=0.00706]\n",
      "Epoch [38/100] Validation: 100%|██████████| 86/86 [00:04<00:00, 20.56it/s]\n"
     ]
    },
    {
     "name": "stdout",
     "output_type": "stream",
     "text": [
      "Epoch [38/100] -> Train Loss: 0.1196, Train Acc: 95.85% | Val Loss: 0.8283, Val Acc: 81.15%\n"
     ]
    },
    {
     "name": "stderr",
     "output_type": "stream",
     "text": [
      "Epoch [39/100] Training: 100%|██████████| 594/594 [00:19<00:00, 30.44it/s, loss=0.023]  \n",
      "Epoch [39/100] Validation: 100%|██████████| 86/86 [00:04<00:00, 21.25it/s]\n"
     ]
    },
    {
     "name": "stdout",
     "output_type": "stream",
     "text": [
      "Epoch [39/100] -> Train Loss: 0.1158, Train Acc: 95.82% | Val Loss: 0.7604, Val Acc: 80.56%\n"
     ]
    },
    {
     "name": "stderr",
     "output_type": "stream",
     "text": [
      "Epoch [40/100] Training: 100%|██████████| 594/594 [00:19<00:00, 30.44it/s, loss=0.00612] \n",
      "Epoch [40/100] Validation: 100%|██████████| 86/86 [00:04<00:00, 20.82it/s]\n"
     ]
    },
    {
     "name": "stdout",
     "output_type": "stream",
     "text": [
      "Epoch [40/100] -> Train Loss: 0.1190, Train Acc: 95.88% | Val Loss: 0.7721, Val Acc: 81.84%\n"
     ]
    },
    {
     "name": "stderr",
     "output_type": "stream",
     "text": [
      "Epoch [41/100] Training: 100%|██████████| 594/594 [00:19<00:00, 30.56it/s, loss=0.228]  \n",
      "Epoch [41/100] Validation: 100%|██████████| 86/86 [00:04<00:00, 19.86it/s]\n"
     ]
    },
    {
     "name": "stdout",
     "output_type": "stream",
     "text": [
      "Epoch [41/100] -> Train Loss: 0.1014, Train Acc: 96.37% | Val Loss: 0.8425, Val Acc: 81.77%\n"
     ]
    },
    {
     "name": "stderr",
     "output_type": "stream",
     "text": [
      "Epoch [42/100] Training: 100%|██████████| 594/594 [00:19<00:00, 30.30it/s, loss=0.0258]  \n",
      "Epoch [42/100] Validation: 100%|██████████| 86/86 [00:04<00:00, 20.33it/s]\n"
     ]
    },
    {
     "name": "stdout",
     "output_type": "stream",
     "text": [
      "Epoch [42/100] -> Train Loss: 0.1178, Train Acc: 95.71% | Val Loss: 0.7855, Val Acc: 81.59%\n"
     ]
    },
    {
     "name": "stderr",
     "output_type": "stream",
     "text": [
      "Epoch [43/100] Training: 100%|██████████| 594/594 [00:19<00:00, 30.22it/s, loss=0.00932]\n",
      "Epoch [43/100] Validation: 100%|██████████| 86/86 [00:04<00:00, 21.22it/s]\n"
     ]
    },
    {
     "name": "stdout",
     "output_type": "stream",
     "text": [
      "Epoch [43/100] -> Train Loss: 0.0981, Train Acc: 96.45% | Val Loss: 0.9046, Val Acc: 78.57%\n"
     ]
    },
    {
     "name": "stderr",
     "output_type": "stream",
     "text": [
      "Epoch [44/100] Training: 100%|██████████| 594/594 [00:19<00:00, 30.29it/s, loss=0.408]   \n",
      "Epoch [44/100] Validation: 100%|██████████| 86/86 [00:04<00:00, 20.21it/s]\n"
     ]
    },
    {
     "name": "stdout",
     "output_type": "stream",
     "text": [
      "Epoch [44/100] -> Train Loss: 0.1075, Train Acc: 96.32% | Val Loss: 0.8264, Val Acc: 83.09%\n"
     ]
    },
    {
     "name": "stderr",
     "output_type": "stream",
     "text": [
      "Epoch [45/100] Training: 100%|██████████| 594/594 [00:19<00:00, 30.25it/s, loss=0.658]  \n",
      "Epoch [45/100] Validation: 100%|██████████| 86/86 [00:03<00:00, 21.75it/s]\n"
     ]
    },
    {
     "name": "stdout",
     "output_type": "stream",
     "text": [
      "Epoch [45/100] -> Train Loss: 0.1014, Train Acc: 96.43% | Val Loss: 0.8967, Val Acc: 81.84%\n"
     ]
    },
    {
     "name": "stderr",
     "output_type": "stream",
     "text": [
      "Epoch [46/100] Training: 100%|██████████| 594/594 [00:19<00:00, 30.39it/s, loss=0.0695] \n",
      "Epoch [46/100] Validation: 100%|██████████| 86/86 [00:04<00:00, 20.85it/s]\n"
     ]
    },
    {
     "name": "stdout",
     "output_type": "stream",
     "text": [
      "Epoch [46/100] -> Train Loss: 0.1033, Train Acc: 96.29% | Val Loss: 0.8357, Val Acc: 80.85%\n"
     ]
    },
    {
     "name": "stderr",
     "output_type": "stream",
     "text": [
      "Epoch [47/100] Training: 100%|██████████| 594/594 [00:19<00:00, 30.41it/s, loss=0.00514]\n",
      "Epoch [47/100] Validation: 100%|██████████| 86/86 [00:04<00:00, 20.81it/s]\n"
     ]
    },
    {
     "name": "stdout",
     "output_type": "stream",
     "text": [
      "Epoch [47/100] -> Train Loss: 0.0886, Train Acc: 96.89% | Val Loss: 1.0063, Val Acc: 80.41%\n"
     ]
    },
    {
     "name": "stderr",
     "output_type": "stream",
     "text": [
      "Epoch [48/100] Training: 100%|██████████| 594/594 [00:19<00:00, 30.25it/s, loss=0.0509]  \n",
      "Epoch [48/100] Validation: 100%|██████████| 86/86 [00:04<00:00, 20.85it/s]\n"
     ]
    },
    {
     "name": "stdout",
     "output_type": "stream",
     "text": [
      "Epoch [48/100] -> Train Loss: 0.1026, Train Acc: 96.40% | Val Loss: 1.1121, Val Acc: 82.32%\n"
     ]
    },
    {
     "name": "stderr",
     "output_type": "stream",
     "text": [
      "Epoch [49/100] Training: 100%|██████████| 594/594 [00:19<00:00, 30.18it/s, loss=0.0226] \n",
      "Epoch [49/100] Validation: 100%|██████████| 86/86 [00:04<00:00, 19.86it/s]\n"
     ]
    },
    {
     "name": "stdout",
     "output_type": "stream",
     "text": [
      "Epoch [49/100] -> Train Loss: 0.0980, Train Acc: 96.55% | Val Loss: 0.9731, Val Acc: 78.79%\n"
     ]
    },
    {
     "name": "stderr",
     "output_type": "stream",
     "text": [
      "Epoch [50/100] Training: 100%|██████████| 594/594 [00:19<00:00, 30.48it/s, loss=0.127]  \n",
      "Epoch [50/100] Validation: 100%|██████████| 86/86 [00:04<00:00, 20.30it/s]\n"
     ]
    },
    {
     "name": "stdout",
     "output_type": "stream",
     "text": [
      "Epoch [50/100] -> Train Loss: 0.0911, Train Acc: 96.93% | Val Loss: 0.8102, Val Acc: 81.04%\n"
     ]
    },
    {
     "name": "stderr",
     "output_type": "stream",
     "text": [
      "Epoch [51/100] Training: 100%|██████████| 594/594 [00:19<00:00, 30.25it/s, loss=0.319]  \n",
      "Epoch [51/100] Validation: 100%|██████████| 86/86 [00:03<00:00, 21.88it/s]\n"
     ]
    },
    {
     "name": "stdout",
     "output_type": "stream",
     "text": [
      "Epoch [51/100] -> Train Loss: 0.0808, Train Acc: 97.24% | Val Loss: 0.8968, Val Acc: 82.40%\n"
     ]
    },
    {
     "name": "stderr",
     "output_type": "stream",
     "text": [
      "Epoch [52/100] Training: 100%|██████████| 594/594 [00:19<00:00, 30.51it/s, loss=0.0277]  \n",
      "Epoch [52/100] Validation: 100%|██████████| 86/86 [00:03<00:00, 21.54it/s]\n"
     ]
    },
    {
     "name": "stdout",
     "output_type": "stream",
     "text": [
      "Epoch [52/100] -> Train Loss: 0.0870, Train Acc: 97.02% | Val Loss: 0.8925, Val Acc: 81.44%\n"
     ]
    },
    {
     "name": "stderr",
     "output_type": "stream",
     "text": [
      "Epoch [53/100] Training: 100%|██████████| 594/594 [00:19<00:00, 30.45it/s, loss=0.0831]  \n",
      "Epoch [53/100] Validation: 100%|██████████| 86/86 [00:03<00:00, 21.73it/s]\n"
     ]
    },
    {
     "name": "stdout",
     "output_type": "stream",
     "text": [
      "Epoch [53/100] -> Train Loss: 0.0919, Train Acc: 96.72% | Val Loss: 0.8754, Val Acc: 81.15%\n"
     ]
    },
    {
     "name": "stderr",
     "output_type": "stream",
     "text": [
      "Epoch [54/100] Training: 100%|██████████| 594/594 [00:19<00:00, 30.46it/s, loss=0.0519]  \n",
      "Epoch [54/100] Validation: 100%|██████████| 86/86 [00:04<00:00, 20.70it/s]\n"
     ]
    },
    {
     "name": "stdout",
     "output_type": "stream",
     "text": [
      "Epoch [54/100] -> Train Loss: 0.0883, Train Acc: 96.66% | Val Loss: 0.8751, Val Acc: 81.77%\n"
     ]
    },
    {
     "name": "stderr",
     "output_type": "stream",
     "text": [
      "Epoch [55/100] Training: 100%|██████████| 594/594 [00:19<00:00, 30.54it/s, loss=0.00929] \n",
      "Epoch [55/100] Validation: 100%|██████████| 86/86 [00:03<00:00, 22.02it/s]\n"
     ]
    },
    {
     "name": "stdout",
     "output_type": "stream",
     "text": [
      "Epoch [55/100] -> Train Loss: 0.0794, Train Acc: 97.23% | Val Loss: 0.9441, Val Acc: 80.45%\n"
     ]
    },
    {
     "name": "stderr",
     "output_type": "stream",
     "text": [
      "Epoch [56/100] Training: 100%|██████████| 594/594 [00:19<00:00, 30.55it/s, loss=0.162]   \n",
      "Epoch [56/100] Validation: 100%|██████████| 86/86 [00:04<00:00, 21.29it/s]\n"
     ]
    },
    {
     "name": "stdout",
     "output_type": "stream",
     "text": [
      "Epoch [56/100] -> Train Loss: 0.0819, Train Acc: 97.36% | Val Loss: 0.9920, Val Acc: 81.44%\n"
     ]
    },
    {
     "name": "stderr",
     "output_type": "stream",
     "text": [
      "Epoch [57/100] Training: 100%|██████████| 594/594 [00:19<00:00, 30.55it/s, loss=0.132]   \n",
      "Epoch [57/100] Validation: 100%|██████████| 86/86 [00:04<00:00, 20.20it/s]\n"
     ]
    },
    {
     "name": "stdout",
     "output_type": "stream",
     "text": [
      "Epoch [57/100] -> Train Loss: 0.0849, Train Acc: 97.01% | Val Loss: 0.9449, Val Acc: 81.11%\n"
     ]
    },
    {
     "name": "stderr",
     "output_type": "stream",
     "text": [
      "Epoch [58/100] Training: 100%|██████████| 594/594 [00:19<00:00, 30.48it/s, loss=0.0203]  \n",
      "Epoch [58/100] Validation: 100%|██████████| 86/86 [00:03<00:00, 21.85it/s]\n"
     ]
    },
    {
     "name": "stdout",
     "output_type": "stream",
     "text": [
      "Epoch [58/100] -> Train Loss: 0.0766, Train Acc: 97.30% | Val Loss: 1.0346, Val Acc: 81.66%\n"
     ]
    },
    {
     "name": "stderr",
     "output_type": "stream",
     "text": [
      "Epoch [59/100] Training: 100%|██████████| 594/594 [00:19<00:00, 30.39it/s, loss=0.729]   \n",
      "Epoch [59/100] Validation: 100%|██████████| 86/86 [00:04<00:00, 21.29it/s]\n"
     ]
    },
    {
     "name": "stdout",
     "output_type": "stream",
     "text": [
      "Epoch [59/100] -> Train Loss: 0.0817, Train Acc: 97.23% | Val Loss: 0.8769, Val Acc: 81.07%\n"
     ]
    },
    {
     "name": "stderr",
     "output_type": "stream",
     "text": [
      "Epoch [60/100] Training: 100%|██████████| 594/594 [00:19<00:00, 30.46it/s, loss=0.0278]  \n",
      "Epoch [60/100] Validation: 100%|██████████| 86/86 [00:04<00:00, 21.06it/s]\n"
     ]
    },
    {
     "name": "stdout",
     "output_type": "stream",
     "text": [
      "Epoch [60/100] -> Train Loss: 0.0741, Train Acc: 97.41% | Val Loss: 0.9396, Val Acc: 82.03%\n"
     ]
    },
    {
     "name": "stderr",
     "output_type": "stream",
     "text": [
      "Epoch [61/100] Training: 100%|██████████| 594/594 [00:19<00:00, 30.44it/s, loss=0.00363] \n",
      "Epoch [61/100] Validation: 100%|██████████| 86/86 [00:03<00:00, 21.91it/s]\n"
     ]
    },
    {
     "name": "stdout",
     "output_type": "stream",
     "text": [
      "Epoch [61/100] -> Train Loss: 0.0723, Train Acc: 97.48% | Val Loss: 0.8825, Val Acc: 80.85%\n"
     ]
    },
    {
     "name": "stderr",
     "output_type": "stream",
     "text": [
      "Epoch [62/100] Training: 100%|██████████| 594/594 [00:19<00:00, 30.44it/s, loss=0.00501] \n",
      "Epoch [62/100] Validation: 100%|██████████| 86/86 [00:03<00:00, 21.83it/s]\n"
     ]
    },
    {
     "name": "stdout",
     "output_type": "stream",
     "text": [
      "Epoch [62/100] -> Train Loss: 0.0838, Train Acc: 97.17% | Val Loss: 0.8146, Val Acc: 81.18%\n"
     ]
    },
    {
     "name": "stderr",
     "output_type": "stream",
     "text": [
      "Epoch [63/100] Training: 100%|██████████| 594/594 [00:19<00:00, 30.43it/s, loss=0.312]   \n",
      "Epoch [63/100] Validation: 100%|██████████| 86/86 [00:04<00:00, 20.45it/s]\n"
     ]
    },
    {
     "name": "stdout",
     "output_type": "stream",
     "text": [
      "Epoch [63/100] -> Train Loss: 0.0714, Train Acc: 97.42% | Val Loss: 0.9436, Val Acc: 81.44%\n"
     ]
    },
    {
     "name": "stderr",
     "output_type": "stream",
     "text": [
      "Epoch [64/100] Training: 100%|██████████| 594/594 [00:19<00:00, 30.53it/s, loss=0.122]   \n",
      "Epoch [64/100] Validation: 100%|██████████| 86/86 [00:04<00:00, 20.59it/s]\n"
     ]
    },
    {
     "name": "stdout",
     "output_type": "stream",
     "text": [
      "Epoch [64/100] -> Train Loss: 0.0808, Train Acc: 97.03% | Val Loss: 0.8712, Val Acc: 80.37%\n"
     ]
    },
    {
     "name": "stderr",
     "output_type": "stream",
     "text": [
      "Epoch [65/100] Training: 100%|██████████| 594/594 [00:19<00:00, 30.47it/s, loss=0.00358] \n",
      "Epoch [65/100] Validation: 100%|██████████| 86/86 [00:04<00:00, 20.19it/s]\n"
     ]
    },
    {
     "name": "stdout",
     "output_type": "stream",
     "text": [
      "Epoch [65/100] -> Train Loss: 0.0594, Train Acc: 98.14% | Val Loss: 1.0057, Val Acc: 80.15%\n"
     ]
    },
    {
     "name": "stderr",
     "output_type": "stream",
     "text": [
      "Epoch [66/100] Training: 100%|██████████| 594/594 [00:19<00:00, 30.57it/s, loss=0.47]    \n",
      "Epoch [66/100] Validation: 100%|██████████| 86/86 [00:04<00:00, 21.28it/s]\n"
     ]
    },
    {
     "name": "stdout",
     "output_type": "stream",
     "text": [
      "Epoch [66/100] -> Train Loss: 0.0758, Train Acc: 97.46% | Val Loss: 0.9127, Val Acc: 80.26%\n"
     ]
    },
    {
     "name": "stderr",
     "output_type": "stream",
     "text": [
      "Epoch [67/100] Training: 100%|██████████| 594/594 [00:19<00:00, 30.35it/s, loss=0.353]   \n",
      "Epoch [67/100] Validation: 100%|██████████| 86/86 [00:04<00:00, 20.94it/s]\n"
     ]
    },
    {
     "name": "stdout",
     "output_type": "stream",
     "text": [
      "Epoch [67/100] -> Train Loss: 0.0740, Train Acc: 97.40% | Val Loss: 0.9923, Val Acc: 79.13%\n"
     ]
    },
    {
     "name": "stderr",
     "output_type": "stream",
     "text": [
      "Epoch [68/100] Training: 100%|██████████| 594/594 [00:19<00:00, 30.19it/s, loss=0.00263] \n",
      "Epoch [68/100] Validation: 100%|██████████| 86/86 [00:04<00:00, 20.51it/s]\n"
     ]
    },
    {
     "name": "stdout",
     "output_type": "stream",
     "text": [
      "Epoch [68/100] -> Train Loss: 0.0695, Train Acc: 97.62% | Val Loss: 0.9728, Val Acc: 81.96%\n"
     ]
    },
    {
     "name": "stderr",
     "output_type": "stream",
     "text": [
      "Epoch [69/100] Training: 100%|██████████| 594/594 [00:19<00:00, 30.46it/s, loss=0.229]   \n",
      "Epoch [69/100] Validation: 100%|██████████| 86/86 [00:03<00:00, 22.02it/s]\n"
     ]
    },
    {
     "name": "stdout",
     "output_type": "stream",
     "text": [
      "Epoch [69/100] -> Train Loss: 0.0578, Train Acc: 97.98% | Val Loss: 0.8738, Val Acc: 81.92%\n"
     ]
    },
    {
     "name": "stderr",
     "output_type": "stream",
     "text": [
      "Epoch [70/100] Training: 100%|██████████| 594/594 [00:19<00:00, 30.37it/s, loss=0.0134]  \n",
      "Epoch [70/100] Validation: 100%|██████████| 86/86 [00:04<00:00, 20.66it/s]\n"
     ]
    },
    {
     "name": "stdout",
     "output_type": "stream",
     "text": [
      "Epoch [70/100] -> Train Loss: 0.0753, Train Acc: 97.41% | Val Loss: 0.9293, Val Acc: 81.66%\n"
     ]
    },
    {
     "name": "stderr",
     "output_type": "stream",
     "text": [
      "Epoch [71/100] Training: 100%|██████████| 594/594 [00:19<00:00, 30.52it/s, loss=0.00388] \n",
      "Epoch [71/100] Validation: 100%|██████████| 86/86 [00:04<00:00, 20.69it/s]\n"
     ]
    },
    {
     "name": "stdout",
     "output_type": "stream",
     "text": [
      "Epoch [71/100] -> Train Loss: 0.0635, Train Acc: 97.61% | Val Loss: 1.0351, Val Acc: 81.55%\n"
     ]
    },
    {
     "name": "stderr",
     "output_type": "stream",
     "text": [
      "Epoch [72/100] Training: 100%|██████████| 594/594 [00:19<00:00, 30.44it/s, loss=0.034]   \n",
      "Epoch [72/100] Validation: 100%|██████████| 86/86 [00:04<00:00, 20.80it/s]\n"
     ]
    },
    {
     "name": "stdout",
     "output_type": "stream",
     "text": [
      "Epoch [72/100] -> Train Loss: 0.0528, Train Acc: 98.36% | Val Loss: 0.9494, Val Acc: 81.55%\n"
     ]
    },
    {
     "name": "stderr",
     "output_type": "stream",
     "text": [
      "Epoch [73/100] Training: 100%|██████████| 594/594 [00:19<00:00, 30.44it/s, loss=0.126]   \n",
      "Epoch [73/100] Validation: 100%|██████████| 86/86 [00:04<00:00, 21.45it/s]\n"
     ]
    },
    {
     "name": "stdout",
     "output_type": "stream",
     "text": [
      "Epoch [73/100] -> Train Loss: 0.0645, Train Acc: 97.69% | Val Loss: 0.9594, Val Acc: 81.99%\n"
     ]
    },
    {
     "name": "stderr",
     "output_type": "stream",
     "text": [
      "Epoch [74/100] Training: 100%|██████████| 594/594 [00:19<00:00, 30.48it/s, loss=0.0657]  \n",
      "Epoch [74/100] Validation: 100%|██████████| 86/86 [00:03<00:00, 21.65it/s]\n"
     ]
    },
    {
     "name": "stdout",
     "output_type": "stream",
     "text": [
      "Epoch [74/100] -> Train Loss: 0.0664, Train Acc: 97.59% | Val Loss: 1.0111, Val Acc: 81.70%\n"
     ]
    },
    {
     "name": "stderr",
     "output_type": "stream",
     "text": [
      "Epoch [75/100] Training: 100%|██████████| 594/594 [00:19<00:00, 30.45it/s, loss=0.0802]  \n",
      "Epoch [75/100] Validation: 100%|██████████| 86/86 [00:04<00:00, 21.41it/s]\n"
     ]
    },
    {
     "name": "stdout",
     "output_type": "stream",
     "text": [
      "Epoch [75/100] -> Train Loss: 0.0829, Train Acc: 97.24% | Val Loss: 0.8905, Val Acc: 80.78%\n"
     ]
    },
    {
     "name": "stderr",
     "output_type": "stream",
     "text": [
      "Epoch [76/100] Training: 100%|██████████| 594/594 [00:19<00:00, 30.23it/s, loss=0.00118] \n",
      "Epoch [76/100] Validation: 100%|██████████| 86/86 [00:04<00:00, 21.22it/s]\n"
     ]
    },
    {
     "name": "stdout",
     "output_type": "stream",
     "text": [
      "Epoch [76/100] -> Train Loss: 0.0586, Train Acc: 98.06% | Val Loss: 0.9005, Val Acc: 81.81%\n"
     ]
    },
    {
     "name": "stderr",
     "output_type": "stream",
     "text": [
      "Epoch [77/100] Training: 100%|██████████| 594/594 [00:19<00:00, 30.54it/s, loss=0.105]   \n",
      "Epoch [77/100] Validation: 100%|██████████| 86/86 [00:04<00:00, 21.31it/s]\n"
     ]
    },
    {
     "name": "stdout",
     "output_type": "stream",
     "text": [
      "Epoch [77/100] -> Train Loss: 0.0495, Train Acc: 98.42% | Val Loss: 1.1093, Val Acc: 80.15%\n"
     ]
    },
    {
     "name": "stderr",
     "output_type": "stream",
     "text": [
      "Epoch [78/100] Training: 100%|██████████| 594/594 [00:19<00:00, 30.67it/s, loss=0.00466] \n",
      "Epoch [78/100] Validation: 100%|██████████| 86/86 [00:04<00:00, 21.46it/s]\n"
     ]
    },
    {
     "name": "stdout",
     "output_type": "stream",
     "text": [
      "Epoch [78/100] -> Train Loss: 0.0605, Train Acc: 97.87% | Val Loss: 1.0109, Val Acc: 81.92%\n"
     ]
    },
    {
     "name": "stderr",
     "output_type": "stream",
     "text": [
      "Epoch [79/100] Training: 100%|██████████| 594/594 [00:19<00:00, 30.31it/s, loss=0.141]   \n",
      "Epoch [79/100] Validation: 100%|██████████| 86/86 [00:03<00:00, 21.61it/s]\n"
     ]
    },
    {
     "name": "stdout",
     "output_type": "stream",
     "text": [
      "Epoch [79/100] -> Train Loss: 0.0587, Train Acc: 98.07% | Val Loss: 0.9711, Val Acc: 81.00%\n"
     ]
    },
    {
     "name": "stderr",
     "output_type": "stream",
     "text": [
      "Epoch [80/100] Training: 100%|██████████| 594/594 [00:19<00:00, 30.35it/s, loss=0.355]   \n",
      "Epoch [80/100] Validation: 100%|██████████| 86/86 [00:04<00:00, 20.20it/s]\n"
     ]
    },
    {
     "name": "stdout",
     "output_type": "stream",
     "text": [
      "Epoch [80/100] -> Train Loss: 0.0634, Train Acc: 97.69% | Val Loss: 1.0368, Val Acc: 81.62%\n"
     ]
    },
    {
     "name": "stderr",
     "output_type": "stream",
     "text": [
      "Epoch [81/100] Training: 100%|██████████| 594/594 [00:19<00:00, 30.51it/s, loss=0.00488] \n",
      "Epoch [81/100] Validation: 100%|██████████| 86/86 [00:04<00:00, 20.92it/s]\n"
     ]
    },
    {
     "name": "stdout",
     "output_type": "stream",
     "text": [
      "Epoch [81/100] -> Train Loss: 0.0766, Train Acc: 97.47% | Val Loss: 0.9729, Val Acc: 80.34%\n"
     ]
    },
    {
     "name": "stderr",
     "output_type": "stream",
     "text": [
      "Epoch [82/100] Training: 100%|██████████| 594/594 [00:19<00:00, 30.37it/s, loss=0.00577] \n",
      "Epoch [82/100] Validation: 100%|██████████| 86/86 [00:04<00:00, 21.16it/s]\n"
     ]
    },
    {
     "name": "stdout",
     "output_type": "stream",
     "text": [
      "Epoch [82/100] -> Train Loss: 0.0433, Train Acc: 98.48% | Val Loss: 0.9965, Val Acc: 82.14%\n"
     ]
    },
    {
     "name": "stderr",
     "output_type": "stream",
     "text": [
      "Epoch [83/100] Training: 100%|██████████| 594/594 [00:19<00:00, 30.32it/s, loss=0.0156]  \n",
      "Epoch [83/100] Validation: 100%|██████████| 86/86 [00:04<00:00, 21.41it/s]\n"
     ]
    },
    {
     "name": "stdout",
     "output_type": "stream",
     "text": [
      "Epoch [83/100] -> Train Loss: 0.0658, Train Acc: 97.68% | Val Loss: 1.0435, Val Acc: 82.51%\n"
     ]
    },
    {
     "name": "stderr",
     "output_type": "stream",
     "text": [
      "Epoch [84/100] Training: 100%|██████████| 594/594 [00:19<00:00, 30.42it/s, loss=0.623]   \n",
      "Epoch [84/100] Validation: 100%|██████████| 86/86 [00:04<00:00, 21.15it/s]\n"
     ]
    },
    {
     "name": "stdout",
     "output_type": "stream",
     "text": [
      "Epoch [84/100] -> Train Loss: 0.0640, Train Acc: 97.85% | Val Loss: 0.8949, Val Acc: 82.36%\n"
     ]
    },
    {
     "name": "stderr",
     "output_type": "stream",
     "text": [
      "Epoch [85/100] Training: 100%|██████████| 594/594 [00:19<00:00, 30.50it/s, loss=0.0083]  \n",
      "Epoch [85/100] Validation: 100%|██████████| 86/86 [00:04<00:00, 21.31it/s]\n"
     ]
    },
    {
     "name": "stdout",
     "output_type": "stream",
     "text": [
      "Epoch [85/100] -> Train Loss: 0.0536, Train Acc: 98.17% | Val Loss: 0.8742, Val Acc: 80.52%\n"
     ]
    },
    {
     "name": "stderr",
     "output_type": "stream",
     "text": [
      "Epoch [86/100] Training: 100%|██████████| 594/594 [00:19<00:00, 30.39it/s, loss=0.297]   \n",
      "Epoch [86/100] Validation: 100%|██████████| 86/86 [00:03<00:00, 21.57it/s]\n"
     ]
    },
    {
     "name": "stdout",
     "output_type": "stream",
     "text": [
      "Epoch [86/100] -> Train Loss: 0.0572, Train Acc: 98.07% | Val Loss: 1.1622, Val Acc: 81.51%\n"
     ]
    },
    {
     "name": "stderr",
     "output_type": "stream",
     "text": [
      "Epoch [87/100] Training: 100%|██████████| 594/594 [00:19<00:00, 30.44it/s, loss=0.0111]  \n",
      "Epoch [87/100] Validation: 100%|██████████| 86/86 [00:04<00:00, 21.30it/s]\n"
     ]
    },
    {
     "name": "stdout",
     "output_type": "stream",
     "text": [
      "Epoch [87/100] -> Train Loss: 0.0492, Train Acc: 98.33% | Val Loss: 1.0861, Val Acc: 81.96%\n"
     ]
    },
    {
     "name": "stderr",
     "output_type": "stream",
     "text": [
      "Epoch [88/100] Training: 100%|██████████| 594/594 [00:19<00:00, 30.20it/s, loss=0.0172]  \n",
      "Epoch [88/100] Validation: 100%|██████████| 86/86 [00:04<00:00, 20.47it/s]\n"
     ]
    },
    {
     "name": "stdout",
     "output_type": "stream",
     "text": [
      "Epoch [88/100] -> Train Loss: 0.0523, Train Acc: 98.27% | Val Loss: 1.0354, Val Acc: 80.30%\n"
     ]
    },
    {
     "name": "stderr",
     "output_type": "stream",
     "text": [
      "Epoch [89/100] Training: 100%|██████████| 594/594 [00:19<00:00, 30.35it/s, loss=0.0817]  \n",
      "Epoch [89/100] Validation: 100%|██████████| 86/86 [00:03<00:00, 22.32it/s]\n"
     ]
    },
    {
     "name": "stdout",
     "output_type": "stream",
     "text": [
      "Epoch [89/100] -> Train Loss: 0.0544, Train Acc: 98.17% | Val Loss: 1.0377, Val Acc: 82.62%\n"
     ]
    },
    {
     "name": "stderr",
     "output_type": "stream",
     "text": [
      "Epoch [90/100] Training: 100%|██████████| 594/594 [00:19<00:00, 30.34it/s, loss=0.0033]  \n",
      "Epoch [90/100] Validation: 100%|██████████| 86/86 [00:03<00:00, 22.07it/s]\n"
     ]
    },
    {
     "name": "stdout",
     "output_type": "stream",
     "text": [
      "Epoch [90/100] -> Train Loss: 0.0487, Train Acc: 98.33% | Val Loss: 1.0972, Val Acc: 81.84%\n"
     ]
    },
    {
     "name": "stderr",
     "output_type": "stream",
     "text": [
      "Epoch [91/100] Training: 100%|██████████| 594/594 [00:19<00:00, 30.39it/s, loss=0.000783]\n",
      "Epoch [91/100] Validation: 100%|██████████| 86/86 [00:04<00:00, 21.44it/s]\n"
     ]
    },
    {
     "name": "stdout",
     "output_type": "stream",
     "text": [
      "Epoch [91/100] -> Train Loss: 0.0635, Train Acc: 97.90% | Val Loss: 1.0641, Val Acc: 79.49%\n"
     ]
    },
    {
     "name": "stderr",
     "output_type": "stream",
     "text": [
      "Epoch [92/100] Training: 100%|██████████| 594/594 [00:19<00:00, 30.39it/s, loss=0.0393]  \n",
      "Epoch [92/100] Validation: 100%|██████████| 86/86 [00:04<00:00, 21.28it/s]\n"
     ]
    },
    {
     "name": "stdout",
     "output_type": "stream",
     "text": [
      "Epoch [92/100] -> Train Loss: 0.0454, Train Acc: 98.49% | Val Loss: 0.9585, Val Acc: 81.92%\n"
     ]
    },
    {
     "name": "stderr",
     "output_type": "stream",
     "text": [
      "Epoch [93/100] Training: 100%|██████████| 594/594 [00:19<00:00, 30.44it/s, loss=0.0137]  \n",
      "Epoch [93/100] Validation: 100%|██████████| 86/86 [00:04<00:00, 20.29it/s]\n"
     ]
    },
    {
     "name": "stdout",
     "output_type": "stream",
     "text": [
      "Epoch [93/100] -> Train Loss: 0.0534, Train Acc: 98.26% | Val Loss: 0.9389, Val Acc: 80.74%\n"
     ]
    },
    {
     "name": "stderr",
     "output_type": "stream",
     "text": [
      "Epoch [94/100] Training: 100%|██████████| 594/594 [00:19<00:00, 30.47it/s, loss=0.00304] \n",
      "Epoch [94/100] Validation: 100%|██████████| 86/86 [00:04<00:00, 20.78it/s]\n"
     ]
    },
    {
     "name": "stdout",
     "output_type": "stream",
     "text": [
      "Epoch [94/100] -> Train Loss: 0.0507, Train Acc: 98.34% | Val Loss: 0.9587, Val Acc: 80.85%\n"
     ]
    },
    {
     "name": "stderr",
     "output_type": "stream",
     "text": [
      "Epoch [95/100] Training: 100%|██████████| 594/594 [00:19<00:00, 30.43it/s, loss=0.338]   \n",
      "Epoch [95/100] Validation: 100%|██████████| 86/86 [00:03<00:00, 21.60it/s]\n"
     ]
    },
    {
     "name": "stdout",
     "output_type": "stream",
     "text": [
      "Epoch [95/100] -> Train Loss: 0.0450, Train Acc: 98.35% | Val Loss: 0.9758, Val Acc: 80.30%\n"
     ]
    },
    {
     "name": "stderr",
     "output_type": "stream",
     "text": [
      "Epoch [96/100] Training: 100%|██████████| 594/594 [00:19<00:00, 30.35it/s, loss=0.000538]\n",
      "Epoch [96/100] Validation: 100%|██████████| 86/86 [00:04<00:00, 20.81it/s]\n"
     ]
    },
    {
     "name": "stdout",
     "output_type": "stream",
     "text": [
      "Epoch [96/100] -> Train Loss: 0.0711, Train Acc: 97.68% | Val Loss: 0.8768, Val Acc: 83.35%\n"
     ]
    },
    {
     "name": "stderr",
     "output_type": "stream",
     "text": [
      "Epoch [97/100] Training: 100%|██████████| 594/594 [00:19<00:00, 30.49it/s, loss=0.0086]  \n",
      "Epoch [97/100] Validation: 100%|██████████| 86/86 [00:04<00:00, 21.46it/s]\n"
     ]
    },
    {
     "name": "stdout",
     "output_type": "stream",
     "text": [
      "Epoch [97/100] -> Train Loss: 0.0364, Train Acc: 98.69% | Val Loss: 0.9987, Val Acc: 82.25%\n"
     ]
    },
    {
     "name": "stderr",
     "output_type": "stream",
     "text": [
      "Epoch [98/100] Training: 100%|██████████| 594/594 [00:19<00:00, 30.26it/s, loss=0.271]   \n",
      "Epoch [98/100] Validation: 100%|██████████| 86/86 [00:04<00:00, 20.68it/s]\n"
     ]
    },
    {
     "name": "stdout",
     "output_type": "stream",
     "text": [
      "Epoch [98/100] -> Train Loss: 0.0478, Train Acc: 98.44% | Val Loss: 1.0009, Val Acc: 80.52%\n"
     ]
    },
    {
     "name": "stderr",
     "output_type": "stream",
     "text": [
      "Epoch [99/100] Training: 100%|██████████| 594/594 [00:19<00:00, 30.24it/s, loss=0.00142] \n",
      "Epoch [99/100] Validation: 100%|██████████| 86/86 [00:03<00:00, 21.51it/s]\n"
     ]
    },
    {
     "name": "stdout",
     "output_type": "stream",
     "text": [
      "Epoch [99/100] -> Train Loss: 0.0519, Train Acc: 98.46% | Val Loss: 0.9591, Val Acc: 81.77%\n"
     ]
    },
    {
     "name": "stderr",
     "output_type": "stream",
     "text": [
      "Epoch [100/100] Training: 100%|██████████| 594/594 [00:19<00:00, 30.43it/s, loss=0.00227] \n",
      "Epoch [100/100] Validation: 100%|██████████| 86/86 [00:03<00:00, 21.60it/s]"
     ]
    },
    {
     "name": "stdout",
     "output_type": "stream",
     "text": [
      "Epoch [100/100] -> Train Loss: 0.0528, Train Acc: 98.29% | Val Loss: 0.9238, Val Acc: 79.93%\n",
      "\n",
      "Training complete.\n"
     ]
    },
    {
     "name": "stderr",
     "output_type": "stream",
     "text": [
      "\n"
     ]
    }
   ],
   "source": [
    "# --- 4. Training and Validation Loop ---\n",
    "from torch.optim import AdamW\n",
    "# Define loss function and optimizer\n",
    "criterion = nn.CrossEntropyLoss().to(device)\n",
    "optimizer = AdamW(model.parameters(), lr=1e-3, weight_decay=1e-4)\n",
    "num_epochs = 100\n",
    "best_val_loss = float('inf')\n",
    "save_path = \"best_model_mobilevitv2.pth\"\n",
    "\n",
    "print(\"\\nStarting model training...\")\n",
    "for epoch in range(num_epochs):\n",
    "    # Training\n",
    "    model.train()\n",
    "    epoch_train_loss = 0\n",
    "    train_preds, train_targets = [], []\n",
    "    train_progress_bar = tqdm(train_loader, desc=f\"Epoch [{epoch+1}/{num_epochs}] Training\")\n",
    "    for inputs, targets in train_progress_bar:\n",
    "        inputs, targets = inputs.to(device), targets.to(device)\n",
    "        optimizer.zero_grad()\n",
    "        outputs = model(inputs)\n",
    "        loss = criterion(outputs, targets)\n",
    "        loss.backward()\n",
    "        optimizer.step()\n",
    "\n",
    "        epoch_train_loss += loss.item()\n",
    "        _, predicted = torch.max(outputs.data, 1)\n",
    "        train_preds.extend(predicted.cpu().numpy())\n",
    "        train_targets.extend(targets.cpu().numpy())\n",
    "        train_progress_bar.set_postfix(loss=loss.item())\n",
    "\n",
    "    avg_train_loss = epoch_train_loss / len(train_loader)\n",
    "    train_accuracy = accuracy_score(train_targets, train_preds) * 100\n",
    "\n",
    "    # Validation\n",
    "    model.eval()\n",
    "    epoch_val_loss = 0\n",
    "    val_preds, val_targets = [], []\n",
    "    with torch.no_grad():\n",
    "        val_progress_bar = tqdm(val_loader, desc=f\"Epoch [{epoch+1}/{num_epochs}] Validation\")\n",
    "        for inputs, targets in val_progress_bar:\n",
    "            inputs, targets = inputs.to(device), targets.to(device)\n",
    "            outputs = model(inputs)\n",
    "            loss = criterion(outputs, targets)\n",
    "            epoch_val_loss += loss.item()\n",
    "            _, predicted = torch.max(outputs.data, 1)\n",
    "            val_preds.extend(predicted.cpu().numpy())\n",
    "            val_targets.extend(targets.cpu().numpy())\n",
    "\n",
    "    avg_val_loss = epoch_val_loss / len(val_loader)\n",
    "    val_accuracy = accuracy_score(val_targets, val_preds) * 100\n",
    "\n",
    "    print(f\"Epoch [{epoch+1}/{num_epochs}] -> Train Loss: {avg_train_loss:.4f}, Train Acc: {train_accuracy:.2f}% | Val Loss: {avg_val_loss:.4f}, Val Acc: {val_accuracy:.2f}%\")\n",
    "\n",
    "    if avg_val_loss < best_val_loss:\n",
    "        best_val_loss = avg_val_loss\n",
    "        torch.save(model.state_dict(), save_path)\n",
    "        print(f\"✅ New best model saved at epoch {epoch+1} with Val Loss: {best_val_loss:.4f}\")\n",
    "\n",
    "print(\"\\nTraining complete.\")\n"
   ]
  },
  {
   "cell_type": "code",
   "execution_count": 9,
   "metadata": {},
   "outputs": [
    {
     "name": "stdout",
     "output_type": "stream",
     "text": [
      "\n",
      "Loading best model for final evaluation...\n",
      "Model loaded. Starting testing...\n"
     ]
    },
    {
     "name": "stderr",
     "output_type": "stream",
     "text": [
      "Testing: 100%|██████████| 43/43 [00:02<00:00, 17.32it/s]\n"
     ]
    }
   ],
   "source": [
    "# --- 5. Final Evaluation on Test Set ---\n",
    "print(\"\\nLoading best model for final evaluation...\")\n",
    "# Load the best model weights\n",
    "# If using DataParallel, the state_dict keys are prefixed with 'module.'\n",
    "# We need to load it into a model with the same architecture.\n",
    "eval_model = timm.create_model('mobilevitv2_100.cvnets_in1k', num_classes=6)\n",
    "if torch.cuda.device_count() > 1:\n",
    "    eval_model = nn.DataParallel(eval_model)\n",
    "eval_model.load_state_dict(torch.load(save_path))\n",
    "eval_model.to(device)\n",
    "eval_model.eval()\n",
    "print(\"Model loaded. Starting testing...\")\n",
    "\n",
    "test_preds, test_targets = [], []\n",
    "with torch.no_grad():\n",
    "    for inputs, targets in tqdm(test_loader, desc=\"Testing\"):\n",
    "        inputs, targets = inputs.to(device), targets.to(device)\n",
    "        outputs = eval_model(inputs)\n",
    "        _, preds = torch.max(outputs, 1)\n",
    "        test_preds.extend(preds.cpu().numpy())\n",
    "        test_targets.extend(targets.cpu().numpy())"
   ]
  },
  {
   "cell_type": "code",
   "execution_count": 10,
   "metadata": {},
   "outputs": [
    {
     "name": "stdout",
     "output_type": "stream",
     "text": [
      "\n",
      "=================================================\n",
      "      Fine-Tuning Results for mobilevitv2_100\n",
      "=================================================\n",
      "\n",
      "Final Test Accuracy: 81.76%\n",
      "\n",
      "Confusion Matrix:\n",
      "[[546  20  28   0   0   8]\n",
      " [ 26  11  24   0   0   0]\n",
      " [ 39  19 375  13   6   8]\n",
      " [  0   1  12  10   5   0]\n",
      " [  4   1  11   3  64   2]\n",
      " [  5   0   5   0   7 101]]\n",
      "\n",
      "Classification Report:\n",
      "              precision    recall  f1-score   support\n",
      "\n",
      "     class_0       0.88      0.91      0.89       602\n",
      "     class_1       0.21      0.18      0.19        61\n",
      "     class_2       0.82      0.82      0.82       460\n",
      "     class_3       0.38      0.36      0.37        28\n",
      "     class_4       0.78      0.75      0.77        85\n",
      "     class_5       0.85      0.86      0.85       118\n",
      "\n",
      "    accuracy                           0.82      1354\n",
      "   macro avg       0.66      0.64      0.65      1354\n",
      "weighted avg       0.81      0.82      0.81      1354\n",
      "\n",
      "\n",
      "✅ Final report saved to 'fine_tuning_report.txt'\n",
      "✅ Best model weights saved to 'best_model_mobilevitv2.pth'\n"
     ]
    }
   ],
   "source": [
    "# --- 6. Report and Save Results ---\n",
    "accuracy = accuracy_score(test_targets, test_preds)\n",
    "conf_matrix = confusion_matrix(test_targets, test_preds)\n",
    "report = classification_report(test_targets, test_preds, target_names=test_dataset.classes, zero_division=0)\n",
    "\n",
    "results_text = f\"\"\"\n",
    "=================================================\n",
    "      Fine-Tuning Results for mobilevitv2_100\n",
    "=================================================\n",
    "\n",
    "Final Test Accuracy: {accuracy * 100:.2f}%\n",
    "\n",
    "Confusion Matrix:\n",
    "{conf_matrix}\n",
    "\n",
    "Classification Report:\n",
    "{report}\n",
    "\"\"\"\n",
    "\n",
    "print(results_text)\n",
    "\n",
    "# Save results to a file\n",
    "with open(\"fine_tuning_report.txt\", \"w\") as f:\n",
    "    f.write(results_text)\n",
    "\n",
    "print(f\"✅ Final report saved to 'fine_tuning_report.txt'\")\n",
    "print(f\"✅ Best model weights saved to '{save_path}'\")"
   ]
  },
  {
   "cell_type": "code",
   "execution_count": null,
   "metadata": {},
   "outputs": [],
   "source": []
  }
 ],
 "metadata": {
  "kernelspec": {
   "display_name": "rfdetr",
   "language": "python",
   "name": "python3"
  },
  "language_info": {
   "codemirror_mode": {
    "name": "ipython",
    "version": 3
   },
   "file_extension": ".py",
   "mimetype": "text/x-python",
   "name": "python",
   "nbconvert_exporter": "python",
   "pygments_lexer": "ipython3",
   "version": "3.10.16"
  }
 },
 "nbformat": 4,
 "nbformat_minor": 2
}
